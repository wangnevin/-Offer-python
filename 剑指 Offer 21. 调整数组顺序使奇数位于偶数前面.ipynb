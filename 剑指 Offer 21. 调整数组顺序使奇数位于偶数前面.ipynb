{
 "cells": [
  {
   "cell_type": "markdown",
   "metadata": {},
   "source": [
    "# 剑指 Offer 21. 调整数组顺序使奇数位于偶数前面\n",
    "\n",
    "输入一个整数数组，实现一个函数来调整该数组中数字的顺序，使得所有奇数位于数组的前半部分，所有偶数位于数组的后半部分。\n",
    "\n",
    "示例：\n",
    "输入：nums = [1,2,3,4]\n",
    "输出：[1,3,2,4] \n",
    "注：[3,1,2,4] 也是正确的答案之一。\n",
    "\n",
    "\n",
    "提示：\n",
    "\t1 <= nums.length <= 50000\n",
    "\t1 <= nums[i] <= 10000\n",
    "\n",
    "来源：力扣（LeetCode）\n",
    "链接：https://leetcode-cn.com/problems/diao-zheng-shu-zu-shun-xu-shi-qi-shu-wei-yu-ou-shu-qian-mian-lcof\n",
    "著作权归领扣网络所有。商业转载请联系官方授权，非商业转载请注明出处。"
   ]
  },
  {
   "cell_type": "markdown",
   "metadata": {},
   "source": [
    "可以用双指针的方法来解这道题：\n",
    "* 1.设置两个指针，初始分别指向数组的头和尾\n",
    "* 2.后移头指针，直到碰到一个偶数；前移尾指针，直到碰到一个奇数\n",
    "* 3.如果此时头指针仍然在尾指针的前面，说明此时偶数在奇数的前面，不符合要求，需要交换两数位置\n",
    "* 4.继续后移头指针，前移尾指针，重复上面操作，直到两指针擦肩而过为止"
   ]
  },
  {
   "cell_type": "code",
   "execution_count": null,
   "metadata": {},
   "outputs": [],
   "source": [
    "class Solution:\n",
    "    def exchange(self, nums: List[int]) -> List[int]:\n",
    "        if len(nums) == 0:\n",
    "            return nums\n",
    "        \n",
    "        # 设置两个指针，初始分别指向数组的头和尾\n",
    "        begin = 0\n",
    "        end = len(nums) - 1\n",
    "\n",
    "        while begin < end:\n",
    "            # 后移头指针，直到碰到一个偶数\n",
    "            while (begin < end) and (nums[begin] & 0x1 != 0):\n",
    "                begin = begin + 1\n",
    "\n",
    "            # 前移尾指针，直到碰到一个奇数\n",
    "            while (begin < end) and (nums[end] & 0x1 == 0):\n",
    "                end = end - 1\n",
    "            \n",
    "            # 此时begin指向一个偶数，end指向一个奇数\n",
    "            # 如果此时begin在end的前面，则交换begin和end指向的数字\n",
    "            if begin < end:\n",
    "                tmp = nums[begin]\n",
    "                nums[begin] = nums[end]\n",
    "                nums[end] = tmp\n",
    "        \n",
    "        return nums"
   ]
  }
 ],
 "metadata": {
  "kernelspec": {
   "display_name": "Python 3",
   "language": "python",
   "name": "python3"
  },
  "language_info": {
   "codemirror_mode": {
    "name": "ipython",
    "version": 3
   },
   "file_extension": ".py",
   "mimetype": "text/x-python",
   "name": "python",
   "nbconvert_exporter": "python",
   "pygments_lexer": "ipython3",
   "version": "3.7.1"
  }
 },
 "nbformat": 4,
 "nbformat_minor": 2
}
