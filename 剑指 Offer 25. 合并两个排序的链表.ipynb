{
 "cells": [
  {
   "cell_type": "markdown",
   "metadata": {},
   "source": [
    "# 剑指 Offer 25. 合并两个排序的链表\n",
    "\n",
    "输入两个递增排序的链表，合并这两个链表并使新链表中的节点仍然是递增排序的。\n",
    "\n",
    "示例1：\n",
    "输入：1->2->4, 1->3->4\n",
    "输出：1->1->2->3->4->4\n",
    "\n",
    "限制：\n",
    "0 <= 链表长度 <= 1000\n",
    "\n",
    "来源：力扣（LeetCode）\n",
    "链接：https://leetcode-cn.com/problems/he-bing-liang-ge-pai-xu-de-lian-biao-lcof\n",
    "著作权归领扣网络所有。商业转载请联系官方授权，非商业转载请注明出处。"
   ]
  },
  {
   "cell_type": "markdown",
   "metadata": {},
   "source": [
    "* 1.令指针p1指向l1的头元素，指针p2指向l2的头元素，如果p1指向的元素小于p2指向的元素，则说明合并链表的头元素是p1指向的元素。\n",
    "* 2.后移p1指针，如果此时p2指针的元素小于p1指针的元素，说明余下合并链表的头元素是p2指向的元素。\n",
    "\n",
    "从以上两步可以看出，可以用递归的方法合并两个链表，只要记住当前p1和p2指针指向的元素中较小的元素为余下合并链表的头元素。"
   ]
  },
  {
   "cell_type": "code",
   "execution_count": null,
   "metadata": {},
   "outputs": [],
   "source": [
    "# Definition for singly-linked list.\n",
    "# class ListNode:\n",
    "#     def __init__(self, x):\n",
    "#         self.val = x\n",
    "#         self.next = None\n",
    "\n",
    "class Solution:\n",
    "    def mergeTwoLists(self, l1: ListNode, l2: ListNode) -> ListNode:\n",
    "        if l1 == None:\n",
    "            return l2\n",
    "        if l2 == None:\n",
    "            return l1\n",
    "\n",
    "        MergedHead = None\n",
    "        \n",
    "        # 递归合并两个数组\n",
    "        if l1.val < l2.val:\n",
    "            MergedHead = l1\n",
    "            MergedHead.next = self.mergeTwoLists(l1.next, l2)\n",
    "        else:\n",
    "            MergedHead = l2\n",
    "            MergedHead.next = self.mergeTwoLists(l1, l2.next)\n",
    "        \n",
    "        return MergedHead"
   ]
  }
 ],
 "metadata": {
  "kernelspec": {
   "display_name": "Python 3",
   "language": "python",
   "name": "python3"
  },
  "language_info": {
   "codemirror_mode": {
    "name": "ipython",
    "version": 3
   },
   "file_extension": ".py",
   "mimetype": "text/x-python",
   "name": "python",
   "nbconvert_exporter": "python",
   "pygments_lexer": "ipython3",
   "version": "3.7.1"
  }
 },
 "nbformat": 4,
 "nbformat_minor": 2
}
