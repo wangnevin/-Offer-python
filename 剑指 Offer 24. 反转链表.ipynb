{
 "cells": [
  {
   "cell_type": "markdown",
   "metadata": {},
   "source": [
    "# 剑指 Offer 24. 反转链表\n",
    "\n",
    "定义一个函数，输入一个链表的头节点，反转该链表并输出反转后链表的头节点。\n",
    "\n",
    "示例:\n",
    "输入: 1->2->3->4->5->NULL\n",
    "输出: 5->4->3->2->1->NULL\n",
    "\n",
    "限制：\n",
    "0 <= 节点个数 <= 5000\n",
    "\n",
    "来源：力扣（LeetCode）\n",
    "链接：https://leetcode-cn.com/problems/fan-zhuan-lian-biao-lcof\n",
    "著作权归领扣网络所有。商业转载请联系官方授权，非商业转载请注明出处。"
   ]
  },
  {
   "cell_type": "markdown",
   "metadata": {},
   "source": [
    "这道题需要改变每个节点next的指向，把指向下一个节点改为指向前一个结点。因此在每次更改时，需要同时知道当前节点和前一个结点，还要知道当前节点的下一个节点（因为是下一个要被修改的节点）\n",
    "\n",
    "这3个节点的处理顺序要注意：\n",
    "* 1.先初始化2个节点，因为从头开始，所以令prev=None，current=head\n",
    "* 2.先将当前节点的下一个节点current.next存入变量next_node\n",
    "* 3.更改当前节点next的指向，使其指向前一个结点，current.next=prev\n",
    "* 4.为下一次循环做准备，令当前节点为下一次循环的前一个节点(prev=current)，令下一个节点为下一次循环的当前节点(current=next_node)"
   ]
  },
  {
   "cell_type": "code",
   "execution_count": null,
   "metadata": {},
   "outputs": [],
   "source": [
    "# Definition for singly-linked list.\n",
    "# class ListNode:\n",
    "#     def __init__(self, x):\n",
    "#         self.val = x\n",
    "#         self.next = None\n",
    "\n",
    "class Solution:\n",
    "    def reverseList(self, head: ListNode) -> ListNode:\n",
    "        # 初始化3个指针\n",
    "        ReversedHead = None\n",
    "        current = head\n",
    "        prev = None\n",
    "\n",
    "        while current != None:\n",
    "            next_node = current.next\n",
    "\n",
    "            # 如果当前节点是尾节点，则其为反转链表的头节点\n",
    "            if next_node == None:\n",
    "                ReversedHead = current\n",
    "            \n",
    "            # 更改当前节点next的指向方向（改为指向前一个结点）\n",
    "            current.next = prev\n",
    "            \n",
    "            # 为下一次循环做准备\n",
    "            prev = current\n",
    "            current = next_node\n",
    "        \n",
    "        return ReversedHead"
   ]
  }
 ],
 "metadata": {
  "kernelspec": {
   "display_name": "Python 3",
   "language": "python",
   "name": "python3"
  },
  "language_info": {
   "codemirror_mode": {
    "name": "ipython",
    "version": 3
   },
   "file_extension": ".py",
   "mimetype": "text/x-python",
   "name": "python",
   "nbconvert_exporter": "python",
   "pygments_lexer": "ipython3",
   "version": "3.7.1"
  }
 },
 "nbformat": 4,
 "nbformat_minor": 2
}
