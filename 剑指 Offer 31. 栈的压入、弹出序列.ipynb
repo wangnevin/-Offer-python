{
 "cells": [
  {
   "cell_type": "markdown",
   "metadata": {},
   "source": [
    "# 剑指 Offer 31. 栈的压入、弹出序列\n",
    "\n",
    "输入两个整数序列，第一个序列表示栈的压入顺序，请判断第二个序列是否为该栈的弹出顺序。假设压入栈的所有数字均不相等。例如，序列 {1,2,3,4,5} 是某栈的压栈序列，序列 {4,5,3,2,1} 是该压栈序列对应的一个弹出序列，但 {4,3,5,1,2} 就不可能是该压栈序列的弹出序列。\n",
    "\n",
    "\n",
    "示例 1：\n",
    "输入：pushed = [1,2,3,4,5], popped = [4,5,3,2,1]\n",
    "输出：true\n",
    "解释：我们可以按以下顺序执行：\n",
    "push(1), push(2), push(3), push(4), pop() -> 4,\n",
    "push(5), pop() -> 5, pop() -> 3, pop() -> 2, pop() -> 1\n",
    "\n",
    "\n",
    "示例 2：\n",
    "输入：pushed = [1,2,3,4,5], popped = [4,3,5,1,2]\n",
    "输出：false\n",
    "解释：1 不能在 2 之前弹出。\n",
    "\n",
    "\n",
    "提示：\n",
    "\t0 <= pushed.length == popped.length <= 1000\n",
    "\t0 <= pushed[i], popped[i] < 1000\n",
    "\tpushed 是 popped 的排列。\n",
    "\n",
    "来源：力扣（LeetCode）\n",
    "链接：https://leetcode-cn.com/problems/zhan-de-ya-ru-dan-chu-xu-lie-lcof\n",
    "著作权归领扣网络所有。商业转载请联系官方授权，非商业转载请注明出处。"
   ]
  },
  {
   "cell_type": "markdown",
   "metadata": {},
   "source": [
    "【例】\n",
    "pushed = [1,2,3,4,5]\n",
    "popped = [4,5,3,2,1]\n",
    "stack = []\n",
    "\n",
    "* 1.按pushed中的元素顺序将元素压入辅助栈stack，直到stack栈顶元素为popped中第一个弹出元素。此时stack=[1,2,3,4]\n",
    "* 2.弹出辅助栈的栈顶元素4，此时stack=[1,2,3]，栈顶元素变为3，不是popped中的下一个弹出元素（5）\n",
    "* 3.继续按pushed中的元素顺序将元素压入stack中，直到stack栈顶元素为popped中下一个弹出元素。此时stack=[1,2,3,5]\n",
    "* 4.弹出辅助栈的栈顶元素5，此时stack=[1,2,3]，栈顶元素变为3，正好是是popped中的下一个弹出元素\n",
    "* 5.继续弹出辅助栈的栈顶元素3，此时stack=[1,2]，栈顶元素变为2，正好是是popped中的下一个弹出元素\n",
    "* 6.继续弹出辅助栈的栈顶元素2，此时stack=[1]，栈顶元素变为1，正好是是popped中的下一个弹出元素\n",
    "* 7.继续弹出辅助栈的栈顶元素1，此时stack=[]，stack为空，正好popped的指针也指向最后一个元素，说明是压栈的弹出序列\n",
    "\n",
    "综上，每向辅助栈中压入一个元素，就检查其栈顶元素是否是popped中指定的下一个要弹出的元素。如果是，则从辅助栈中弹出该元素；否则继续向辅助栈中压入元素。如果最后辅助栈为空且popped的指针刚好遍历完整个列表，则返回True。"
   ]
  },
  {
   "cell_type": "code",
   "execution_count": null,
   "metadata": {},
   "outputs": [],
   "source": [
    "class Solution:\n",
    "    def validateStackSequences(self, pushed: List[int], popped: List[int]) -> bool:\n",
    "        isPopOrder = False\n",
    "        if len(pushed) != 0 and len(popped) != 0:\n",
    "            nextPush = 0\n",
    "            nextPop = 0\n",
    "            stack = []  # 辅助栈\n",
    "\n",
    "            while nextPop < len(pushed):\n",
    "                # 如果辅助栈为空，或辅助栈栈顶元素不是下一个弹出的元素\n",
    "                # 则一直压入pushed列表中的元素到辅助栈stack中\n",
    "                # 当辅助栈stack的栈顶元素为下一个弹出的元素时，终止循环\n",
    "                while len(stack) == 0 or stack[-1] != popped[nextPop]:\n",
    "                    if nextPush == len(pushed):\n",
    "                        break\n",
    "                    stack.append(pushed[nextPush])\n",
    "                    nextPush += 1\n",
    "                \n",
    "                if stack[-1] != popped[nextPop]:\n",
    "                    break\n",
    "                \n",
    "                # 从辅助栈中弹出一个元素，并使指针指向popped列表的下一个元素\n",
    "                stack.pop()\n",
    "                nextPop += 1\n",
    "            \n",
    "            if len(stack) == 0 and nextPop == len(pushed):\n",
    "                isPopOrder = True\n",
    "        \n",
    "        else:\n",
    "            isPopOrder = True\n",
    "        \n",
    "        return isPopOrder"
   ]
  }
 ],
 "metadata": {
  "kernelspec": {
   "display_name": "Python 3",
   "language": "python",
   "name": "python3"
  },
  "language_info": {
   "codemirror_mode": {
    "name": "ipython",
    "version": 3
   },
   "file_extension": ".py",
   "mimetype": "text/x-python",
   "name": "python",
   "nbconvert_exporter": "python",
   "pygments_lexer": "ipython3",
   "version": "3.6.5"
  }
 },
 "nbformat": 4,
 "nbformat_minor": 2
}
