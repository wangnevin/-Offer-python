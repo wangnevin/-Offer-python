{
 "cells": [
  {
   "cell_type": "markdown",
   "metadata": {},
   "source": [
    "剑指 Offer 51. 数组中的逆序对\n",
    "\n",
    "在数组中的两个数字，如果前面一个数字大于后面的数字，则这两个数字组成一个逆序对。输入一个数组，求出这个数组中的逆序对的总数。\n",
    "\n",
    "示例 1:\n",
    "输入: [7,5,6,4]\n",
    "输出: 5\n",
    "\n",
    " \n",
    "限制：0 <= 数组长度 <= 50000\n",
    "\n",
    "\n",
    "来源：力扣（LeetCode）\n",
    "链接：https://leetcode-cn.com/problems/shu-zu-zhong-de-ni-xu-dui-lcof\n",
    "著作权归领扣网络所有。商业转载请联系官方授权，非商业转载请注明出处。"
   ]
  },
  {
   "cell_type": "markdown",
   "metadata": {},
   "source": [
    "【例】[7, 5, 6, 4]\n",
    "我们先把数组分解成两个长度为2的子数组，再把这两个子数组分别拆分成两个长度为1的子数组。接下来一边合并相邻的子数组，一边统计逆序对的数目。\n",
    "\n",
    "\n",
    "首先我们统计两个长度为1的子数组之间的逆序对：([7], [5], [6]和[4])\n",
    "* 1.在第一对长度为1的子数组{7}、{5}中7大于5，因此（7,5）组成一个逆序对。\n",
    "* 2.在第二对长度为1的子数组{6}、{4}中也有逆序对（6,4）。\n",
    "* 3.由于我们已经统计了这两对子数组内部的逆序对，因此需要把这两对子数组排序，以免在以后的统计过程中再重复统计。\n",
    "\n",
    "\n",
    "接下来我们统计两个长度为2的子数组之间的逆序对：([5,7]和[4,6])\n",
    "* 1.我们先用两个指针分别指向两个子数组的末尾，并每次比较两个指针指向的数字。\n",
    "* 2.如果第一个子数组中的数字大于第二个子数组中的数字，则构成逆序对，并且逆序对的数目等于第二个子数组中剩余数字的个数。\n",
    "* 3.如果第一个数组中的数字小于或等于第二个数组中的数字，则不构成逆序对。\n",
    "* 4.每一次比较的时候，我们都把较大的数字从后往前复制到一个辅助数组中去，确保辅助数组中的数字是递增排序的。\n",
    "* 5.在把较大的数字复制到辅助数组之后，把对应的指针向前移动一位，接下来进行下一轮比较。\n",
    "\n",
    "\n",
    "综上：先把数组分隔成子数组，先统计出子数组内部的逆序对的数目，然后再统计出两个相邻子数组之间的逆序对的数目。在统计逆序对的过程中，还需要对数组进行排序。我们不难发现这个排序的过程实际上就是归并排序。"
   ]
  },
  {
   "cell_type": "code",
   "execution_count": null,
   "metadata": {},
   "outputs": [],
   "source": [
    "class Solution:\n",
    "    def reversePairs(self, nums: List[int]) -> int:\n",
    "        if nums == None or len(nums) == 0:\n",
    "            return 0\n",
    "        \n",
    "        copy = []\n",
    "        for i in range(len(nums)):\n",
    "            copy.append(nums[i])\n",
    "        \n",
    "        count = self.InversePairsCore(nums, copy, 0, len(nums)-1)\n",
    "\n",
    "        return count\n",
    "    \n",
    "    def InversePairsCore(self, nums, copy, start, end):\n",
    "        if start == end:\n",
    "            copy[start] = nums[start]\n",
    "            return 0\n",
    "\n",
    "        length = int((end - start) / 2)\n",
    "        left = self.InversePairsCore(copy, nums, start, start+length)\n",
    "        right = self.InversePairsCore(copy, nums, start+length+1, end)\n",
    "\n",
    "        i = start + length\n",
    "        j = end\n",
    "        indexCopy = end\n",
    "        count = 0\n",
    "\n",
    "        while i>=start and j>=start+length+1:\n",
    "            if nums[i] > nums[j]:\n",
    "                copy[indexCopy] = nums[i]\n",
    "                indexCopy -= 1\n",
    "                i -= 1\n",
    "                count += j - start - length\n",
    "            else:\n",
    "                copy[indexCopy] = nums[j]\n",
    "                indexCopy -= 1\n",
    "                j -= 1\n",
    "        \n",
    "        while i >= start:\n",
    "            copy[indexCopy] = nums[i]\n",
    "            indexCopy -= 1\n",
    "            i -= 1\n",
    "        while j >= start + length+ 1:\n",
    "            copy[indexCopy] = nums[j]\n",
    "            indexCopy -= 1\n",
    "            j -= 1\n",
    "        \n",
    "        return left + right + count"
   ]
  }
 ],
 "metadata": {
  "kernelspec": {
   "display_name": "Python 3",
   "language": "python",
   "name": "python3"
  },
  "language_info": {
   "codemirror_mode": {
    "name": "ipython",
    "version": 3
   },
   "file_extension": ".py",
   "mimetype": "text/x-python",
   "name": "python",
   "nbconvert_exporter": "python",
   "pygments_lexer": "ipython3",
   "version": "3.7.1"
  }
 },
 "nbformat": 4,
 "nbformat_minor": 2
}
