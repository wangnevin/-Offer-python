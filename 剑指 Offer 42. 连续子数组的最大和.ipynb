{
 "cells": [
  {
   "cell_type": "markdown",
   "metadata": {},
   "source": [
    "剑指 Offer 42. 连续子数组的最大和\n",
    "\n",
    "输入一个整型数组，数组中的一个或连续多个整数组成一个子数组。求所有子数组的和的最大值。\n",
    "\n",
    "要求时间复杂度为O(n)。\n",
    "\n",
    "\n",
    "示例1:\n",
    "输入: nums = [-2,1,-3,4,-1,2,1,-5,4]\n",
    "输出: 6\n",
    "解释: 连续子数组 [4,-1,2,1] 的和最大，为 6。\n",
    "\n",
    "\n",
    "提示：\n",
    "\t1 <= arr.length <= 10^5\n",
    "\t-100 <= arr[i] <= 100\n",
    "\n",
    "\n",
    "来源：力扣（LeetCode）\n",
    "链接：https://leetcode-cn.com/problems/lian-xu-zi-shu-zu-de-zui-da-he-lcof\n",
    "著作权归领扣网络所有。商业转载请联系官方授权，非商业转载请注明出处。"
   ]
  },
  {
   "cell_type": "markdown",
   "metadata": {},
   "source": [
    "【例】[1,-2,3,10,-4,7,2,-5]\n",
    "我们试着从头到尾逐个累加示例数组中的每个数字。初始化和为0。\n",
    "\n",
    "* 第一步加上数字1，此时和为1。\n",
    "* 第二步加上数字-2，和就变成了-1。\n",
    "* 第三步加上数字3，得到的和是2，比3本身还小。也就是说从第一个数字开始的子数组的和会小于从第三个数字开始的子数组的和。因此我们不用考虑从第一个数字开始的子数组，之前累计的和也被抛弃。\n",
    "* 我们从第三个数字重新开始累加，此时得到的和是3。\n",
    "* 第四步加10，得到和为13。\n",
    "* 第五步加上-4，和为9。我们发现由于-4是一个负数，因此累加-4之后得到的和比原来的和还要小。因此我们要把之前得到的和13保存下来，它有可能是最大的子数组的和。\n",
    "* 第六步加上数字7，9加7的结果是16，此时和比之前最大的和13还要大，把最大的子数组的和由13更新为16。\n",
    "* 第七步加上2，累加得到的和为18，同时我们也要更新最大子数组的和。\n",
    "* 第八步加上最后一个数字-5，由于得到的和为13，小于此前最大的和18，\n",
    "\n",
    "因此最终最大的子数组的和为18，对应的子数组是{3,10,-4,7,2}。"
   ]
  },
  {
   "cell_type": "code",
   "execution_count": null,
   "metadata": {},
   "outputs": [],
   "source": [
    "class Solution:\n",
    "    def maxSubArray(self, nums: List[int]) -> int:\n",
    "        if nums == None or len(nums) == 0:\n",
    "            return 0\n",
    "        \n",
    "        CurSum = 0\n",
    "        GreatestSum = -0x80000000\n",
    "\n",
    "        for i in range(len(nums)):\n",
    "            # 如果当前CurSum小于0，则加上nums[i]后CurSum必小于nums[i]\n",
    "            # 抛弃之前的CurSum结果，从nums[i]开始的子数组重新计算CurSum\n",
    "            if CurSum <= 0:\n",
    "                CurSum = nums[i]\n",
    "            else:\n",
    "                CurSum += nums[i]\n",
    "        \n",
    "            # 更新最大和\n",
    "            if CurSum > GreatestSum:\n",
    "                GreatestSum = CurSum\n",
    "            \n",
    "        return GreatestSum"
   ]
  }
 ],
 "metadata": {
  "kernelspec": {
   "display_name": "Python 3",
   "language": "python",
   "name": "python3"
  },
  "language_info": {
   "codemirror_mode": {
    "name": "ipython",
    "version": 3
   },
   "file_extension": ".py",
   "mimetype": "text/x-python",
   "name": "python",
   "nbconvert_exporter": "python",
   "pygments_lexer": "ipython3",
   "version": "3.7.1"
  }
 },
 "nbformat": 4,
 "nbformat_minor": 2
}
