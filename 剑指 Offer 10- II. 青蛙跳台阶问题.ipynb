{
 "cells": [
  {
   "cell_type": "markdown",
   "metadata": {},
   "source": [
    "# 剑指 Offer 10- II. 青蛙跳台阶问题\n",
    "\n",
    "一只青蛙一次可以跳上1级台阶，也可以跳上2级台阶。求该青蛙跳上一个 n 级的台阶总共有多少种跳法。\n",
    "\n",
    "答案需要取模 1e9+7（1000000007），如计算初始结果为：1000000008，请返回 1。\n",
    "\n",
    "示例 1：\n",
    "输入：n = 2\n",
    "输出：2\n",
    "\n",
    "示例 2：\n",
    "输入：n = 7\n",
    "输出：21\n",
    "\n",
    "示例 3：\n",
    "输入：n = 0\n",
    "输出：1\n",
    "\n",
    "提示：0 <= n <= 100\n",
    "\n",
    "来源：力扣（LeetCode）\n",
    "链接：https://leetcode-cn.com/problems/qing-wa-tiao-tai-jie-wen-ti-lcof\n",
    "著作权归领扣网络所有。商业转载请联系官方授权，非商业转载请注明出处。"
   ]
  },
  {
   "cell_type": "markdown",
   "metadata": {},
   "source": [
    "若一共有10级台阶，最后一次跳跃有两种方法：从第9级跳一级到第10级；或从第8级条两级到第10级\n",
    "\n",
    "1.对于从第9级跳一级到第10级，青蛙跳上10级台阶的总方法数就是跳上第9级的方法数。\n",
    "2.对于从第8级条两级到第10级，青蛙跳上10级台阶的总方法数就是跳上第8级的方法数。\n",
    "\n",
    "因此，青蛙跳上10级台阶的总方法数就是跳上第9级的方法数与跳上第8级的方法数之和，即f(10)=f(9)+f(8)。\n",
    "\n",
    "同理，青蛙跳上n级台阶的总方法数就是f(n)=f(n-1)+f(n-2)\n",
    "\n",
    "这道题本质上还是斐波那契数列问题。"
   ]
  },
  {
   "cell_type": "code",
   "execution_count": null,
   "metadata": {},
   "outputs": [],
   "source": [
    "class Solution:\n",
    "    def numWays(self, n: int) -> int:\n",
    "        result = [1,1]\n",
    "        if n < 2:\n",
    "            return result[n]\n",
    "        \n",
    "        fibN = 0       # f(n)\n",
    "        fibN_pre1 = 1  # f(n-1)\n",
    "        fibN_pre2 = 1  # f(n-2)\n",
    "        \n",
    "        for i in range(2,n+1):\n",
    "            fibN = fibN_pre1 + fibN_pre2  # f(n) = f(n-1) + f(n-2)\n",
    "            if fibN > 1e9+7:\n",
    "                fibN = int(fibN - (1e9+7))\n",
    "            fibN_pre2 = fibN_pre1\n",
    "            fibN_pre1 = fibN\n",
    "        \n",
    "        return fibN"
   ]
  }
 ],
 "metadata": {
  "kernelspec": {
   "display_name": "Python 3",
   "language": "python",
   "name": "python3"
  },
  "language_info": {
   "codemirror_mode": {
    "name": "ipython",
    "version": 3
   },
   "file_extension": ".py",
   "mimetype": "text/x-python",
   "name": "python",
   "nbconvert_exporter": "python",
   "pygments_lexer": "ipython3",
   "version": "3.7.1"
  }
 },
 "nbformat": 4,
 "nbformat_minor": 2
}
