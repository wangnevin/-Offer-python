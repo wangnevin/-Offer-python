{
 "cells": [
  {
   "cell_type": "markdown",
   "metadata": {},
   "source": [
    "# 剑指 Offer 06. 从尾到头打印链表\n",
    "\n",
    "输入一个链表的头节点，从尾到头反过来返回每个节点的值（用数组返回）。\n",
    "\n",
    "示例 1：\n",
    "\n",
    "输入：head = [1,3,2]\n",
    "输出：[2,3,1] \n",
    "\n",
    "限制：\n",
    "0 <= 链表长度 <= 10000"
   ]
  },
  {
   "cell_type": "markdown",
   "metadata": {},
   "source": [
    "对于链表这种数据结构，只能从头到尾进行遍历，但是题目要求从尾到头进行输出。也就是说，越先遍历到的节点要越靠后输出，联想到先进后出的栈结构。所以这道题可以用栈结构来完成。遍历到一个节点，就把它压入栈，输出时就一个一个弹出就行。"
   ]
  },
  {
   "cell_type": "code",
   "execution_count": null,
   "metadata": {},
   "outputs": [],
   "source": [
    "# Definition for singly-linked list.\n",
    "# class ListNode:\n",
    "#     def __init__(self, x):\n",
    "#         self.val = x\n",
    "#         self.next = None\n",
    "\n",
    "class Solution:\n",
    "    def reversePrint(self, head: ListNode) -> List[int]:\n",
    "        node_list = []\n",
    "        result = []\n",
    "        current = head\n",
    "        while current != None:\n",
    "            node_list.append(current.val)\n",
    "            current = current.next\n",
    "        for i in range(len(node_list)):\n",
    "            result.append(node_list.pop(-1))\n",
    "        \n",
    "        return result"
   ]
  }
 ],
 "metadata": {
  "kernelspec": {
   "display_name": "Python 3",
   "language": "python",
   "name": "python3"
  },
  "language_info": {
   "codemirror_mode": {
    "name": "ipython",
    "version": 3
   },
   "file_extension": ".py",
   "mimetype": "text/x-python",
   "name": "python",
   "nbconvert_exporter": "python",
   "pygments_lexer": "ipython3",
   "version": "3.6.5"
  }
 },
 "nbformat": 4,
 "nbformat_minor": 2
}
