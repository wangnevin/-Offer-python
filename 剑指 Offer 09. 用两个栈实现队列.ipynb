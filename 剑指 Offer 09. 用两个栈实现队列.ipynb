{
 "cells": [
  {
   "cell_type": "markdown",
   "metadata": {},
   "source": [
    "# 剑指 Offer 09. 用两个栈实现队列\n",
    "\n",
    "用两个栈实现一个队列。队列的声明如下，请实现它的两个函数 appendTail 和 deleteHead ，分别完成在队列尾部插入整数和在队列头部删除整数的功能。(若队列中没有元素，deleteHead 操作返回 -1 )\n",
    "\n",
    "示例 1：\n",
    "\n",
    "输入：\n",
    "[\"CQueue\",\"appendTail\",\"deleteHead\",\"deleteHead\"]\n",
    "[[],[3],[],[]]\n",
    "输出：[null,null,3,-1]\n",
    "\n",
    "示例 2：\n",
    "\n",
    "输入：\n",
    "[\"CQueue\",\"deleteHead\",\"appendTail\",\"appendTail\",\"deleteHead\",\"deleteHead\"]\n",
    "[[],[],[5],[2],[],[]]\n",
    "输出：[null,-1,null,null,5,2]\n",
    "\n",
    "\n",
    "来源：力扣（LeetCode）\n",
    "链接：https://leetcode-cn.com/problems/yong-liang-ge-zhan-shi-xian-dui-lie-lcof\n",
    "著作权归领扣网络所有。商业转载请联系官方授权，非商业转载请注明出处。"
   ]
  },
  {
   "cell_type": "markdown",
   "metadata": {},
   "source": [
    "列队是一种先进先出的数据结构，而栈是一种先进后出的数据结构。用两个栈(stack1和stack2)来实现列队，可以用以下思路：\n",
    "\n",
    "当列队进行入队操作时，向stack1中压入数据，如[a,b,c]。\n",
    "当列队进行出队操作时，最先入队的元素应该出队，即a应该出队，但是stack1只能弹出最后被压入元素c。这时我们把stack1中的元素一个一个弹出来压入stack2，那么stack2=[c,b,a]，这时对stack2进行弹出操作，a就被弹出了，即实现了a的出队。\n",
    "\n",
    "综上，每当入队时，把入队元素压入stack1；每当出队时，检查stack2是否为空，若为空，则把stack1中的元素一个一个弹出来压入stack2中，然后对stack2进行弹出操作，如果stack2不为空，那么直接弹出stack2中的元素即可。"
   ]
  },
  {
   "cell_type": "code",
   "execution_count": null,
   "metadata": {},
   "outputs": [],
   "source": [
    "class CQueue:\n",
    "\n",
    "    def __init__(self):\n",
    "        self.stack1 = []\n",
    "        self.stack2 = []\n",
    "\n",
    "    def appendTail(self, value: int) -> None:\n",
    "        self.stack1.append(value)\n",
    "\n",
    "    def deleteHead(self) -> int:\n",
    "        if len(self.stack2) == 0:\n",
    "            if len(self.stack1) != 0:\n",
    "                length = len(self.stack1)\n",
    "                for i in range(length):\n",
    "                    self.stack2.append(self.stack1.pop())\n",
    "            else:\n",
    "                return -1\n",
    "        return self.stack2.pop()"
   ]
  }
 ],
 "metadata": {
  "kernelspec": {
   "display_name": "Python 3",
   "language": "python",
   "name": "python3"
  },
  "language_info": {
   "codemirror_mode": {
    "name": "ipython",
    "version": 3
   },
   "file_extension": ".py",
   "mimetype": "text/x-python",
   "name": "python",
   "nbconvert_exporter": "python",
   "pygments_lexer": "ipython3",
   "version": "3.6.5"
  }
 },
 "nbformat": 4,
 "nbformat_minor": 2
}
