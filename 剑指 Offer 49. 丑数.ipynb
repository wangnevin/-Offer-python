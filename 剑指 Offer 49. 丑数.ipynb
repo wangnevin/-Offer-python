{
 "cells": [
  {
   "cell_type": "markdown",
   "metadata": {},
   "source": [
    "# 剑指 Offer 49. 丑数\n",
    "\n",
    "我们把只包含质因子 2、3 和 5 的数称作丑数（Ugly Number）。求按从小到大的顺序的第 n 个丑数。\n",
    "\n",
    "\n",
    "示例:\n",
    "输入: n = 10\n",
    "输出: 12\n",
    "解释: 1, 2, 3, 4, 5, 6, 8, 9, 10, 12 是前 10 个丑数。\n",
    "\n",
    "说明:  \n",
    "\t1 是丑数。\n",
    "\tn 不超过1690。\n",
    "\n",
    "来源：力扣（LeetCode）\n",
    "链接：https://leetcode-cn.com/problems/chou-shu-lcof\n",
    "著作权归领扣网络所有。商业转载请联系官方授权，非商业转载请注明出处。"
   ]
  },
  {
   "cell_type": "markdown",
   "metadata": {},
   "source": [
    "根据丑数的定义，丑数应该是另一个丑数乘以2、3或者5的结果（1除外）。因此我们可以创建一个数组，里面的数字是排好序的丑数，每一个丑数都是前面的丑数乘以2、3或者5得到的。\n",
    "\n",
    "假设数组中已经有若干个丑数排好序后存放在数组中，并且把已有最大的丑数记做M，我们接下来分析如何生成下一个丑数:\n",
    "\n",
    "该丑数肯定是前面某一个丑数乘以2、3或者5的结果，所以我们首先考虑把已有的每个丑数乘以2。\n",
    "* 1.得到若干个小于或等于M的结果。由于是按照顺序生成的，小于或者等于M肯定已经在数组中了，我们不需再次考虑；\n",
    "* 2.得到若干个大于M的结果，但我们只需要第一个大于M的结果，因为我们希望丑数是按从小到大的顺序生成的，其他更大的结果以后再说。我们把得到的第一个乘以2后大于M的结果记为M_2 。\n",
    "\n",
    "同样，我们把已有的每一个丑数乘以3和5，能得到第一个大于M的结果M_3和M_5。那么下一个丑数应该是M_2、M_3和M_5这3个数的最小者。"
   ]
  },
  {
   "cell_type": "code",
   "execution_count": null,
   "metadata": {},
   "outputs": [],
   "source": [
    "class Solution:\n",
    "    def nthUglyNumber(self, n: int) -> int:\n",
    "        if n <= 0:\n",
    "            return\n",
    "        \n",
    "        uglyNumbers = [1]\n",
    "        nextUglyIndex = 1\n",
    "\n",
    "        multiply2 = 0\n",
    "        multiply3 = 0\n",
    "        multiply5 = 0\n",
    "\n",
    "        while nextUglyIndex < n:\n",
    "            mini = min(uglyNumbers[multiply2]*2, uglyNumbers[multiply3]*3, uglyNumbers[multiply5]*5)\n",
    "            uglyNumbers.append(mini)\n",
    "\n",
    "            while uglyNumbers[multiply2]*2 <= uglyNumbers[nextUglyIndex]:\n",
    "                multiply2 += 1\n",
    "            while uglyNumbers[multiply3]*3 <= uglyNumbers[nextUglyIndex]:\n",
    "                multiply3 += 1\n",
    "            while uglyNumbers[multiply5]*5 <= uglyNumbers[nextUglyIndex]:\n",
    "                multiply5 += 1\n",
    "            \n",
    "            nextUglyIndex += 1\n",
    "        \n",
    "        ugly = uglyNumbers[nextUglyIndex-1]\n",
    "        return ugly"
   ]
  }
 ],
 "metadata": {
  "kernelspec": {
   "display_name": "Python 3",
   "language": "python",
   "name": "python3"
  },
  "language_info": {
   "codemirror_mode": {
    "name": "ipython",
    "version": 3
   },
   "file_extension": ".py",
   "mimetype": "text/x-python",
   "name": "python",
   "nbconvert_exporter": "python",
   "pygments_lexer": "ipython3",
   "version": "3.7.1"
  }
 },
 "nbformat": 4,
 "nbformat_minor": 2
}
