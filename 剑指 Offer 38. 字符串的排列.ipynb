{
 "cells": [
  {
   "cell_type": "markdown",
   "metadata": {},
   "source": [
    "# 剑指 Offer 38. 字符串的排列\n",
    "\n",
    "输入一个字符串，打印出该字符串中字符的所有排列。\n",
    "\n",
    "你可以以任意顺序返回这个字符串数组，但里面不能有重复元素。\n",
    "\n",
    "\n",
    "示例:\n",
    "输入：s = \"abc\"\n",
    "输出：[\"abc\",\"acb\",\"bac\",\"bca\",\"cab\",\"cba\"]\n",
    "\n",
    "\n",
    "限制：1 <= s 的长度 <= 8\n",
    "\n",
    "\n",
    "来源：力扣（LeetCode）\n",
    "链接：https://leetcode-cn.com/problems/zi-fu-chuan-de-pai-lie-lcof\n",
    "著作权归领扣网络所有。商业转载请联系官方授权，非商业转载请注明出处。"
   ]
  },
  {
   "cell_type": "markdown",
   "metadata": {},
   "source": [
    "求整个字符串的排列，可以看成两步：\n",
    "* 1.首先求所有可能出现在第一个位置的字符，即把第一个字符和后面所有的字符交换。\n",
    "* 2.这个时候我们仍把后面的所有字符分成两部分：后面字符的第一个字符，以及这个字符之后的所有字符。然后把第一个字符逐一和它后面的字符交换。"
   ]
  },
  {
   "cell_type": "code",
   "execution_count": null,
   "metadata": {},
   "outputs": [],
   "source": [
    "class Solution:\n",
    "    def permutation(self, s: str) -> List[str]:\n",
    "        s = list(s)\n",
    "        begin = 0\n",
    "        result = []\n",
    "        return self.helper(s, begin, result)\n",
    "    \n",
    "    def helper(self, s, begin, result):\n",
    "        if begin == len(s):\n",
    "            s_str = ''.join(s)\n",
    "            if s_str not in result:\n",
    "                result.append(s_str)\n",
    "        \n",
    "        else:\n",
    "            # 分别交换首字符和后面的每一个字符\n",
    "            for i in range(begin, len(s)):\n",
    "                if s[begin] != s[i]:\n",
    "                    tmp = s[begin]\n",
    "                    s[begin] = s[i]\n",
    "                    s[i] = tmp\n",
    "\n",
    "                self.helper(s, begin+1, result)\n",
    "\n",
    "                if s[begin] != s[i]:\n",
    "                    tmp = s[begin]\n",
    "                    s[begin] = s[i]\n",
    "                    s[i] = tmp\n",
    "        return result"
   ]
  }
 ],
 "metadata": {
  "kernelspec": {
   "display_name": "Python 3",
   "language": "python",
   "name": "python3"
  },
  "language_info": {
   "codemirror_mode": {
    "name": "ipython",
    "version": 3
   },
   "file_extension": ".py",
   "mimetype": "text/x-python",
   "name": "python",
   "nbconvert_exporter": "python",
   "pygments_lexer": "ipython3",
   "version": "3.7.1"
  }
 },
 "nbformat": 4,
 "nbformat_minor": 2
}
