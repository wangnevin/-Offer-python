{
 "cells": [
  {
   "cell_type": "markdown",
   "metadata": {},
   "source": [
    "# 剑指 Offer 33. 二叉搜索树的后序遍历序列\n",
    "\n",
    "输入一个整数数组，判断该数组是不是某二叉搜索树的后序遍历结果。如果是则返回true，否则返回false。假设输入的数组的任意两个数字都互不相同。\n",
    "\n",
    "参考以下这颗二叉搜索树：\n",
    "     5\n",
    "    / \\\n",
    "   2   6\n",
    "  / \\\n",
    " 1   3\n",
    "\n",
    "示例 1：\n",
    "输入: [1,6,3,2,5]\n",
    "输出: false\n",
    "\n",
    "示例 2：\n",
    "输入: [1,3,2,6,5]\n",
    "输出: true\n",
    "\n",
    "\n",
    "提示：数组长度 <= 1000\n",
    "\n",
    "来源：力扣（LeetCode）\n",
    "链接：https://leetcode-cn.com/problems/er-cha-sou-suo-shu-de-hou-xu-bian-li-xu-lie-lcof\n",
    "著作权归领扣网络所有。商业转载请联系官方授权，非商业转载请注明出处。"
   ]
  },
  {
   "cell_type": "markdown",
   "metadata": {},
   "source": [
    "后序遍历的列表的最后一个元素为根节点，除了最后一个元素，其余的列表可分为两部分，第一部分是左子树的节点，其值都小于根节点；第二部分是右子树的节点，其值都大于根节点。\n",
    "\n",
    "【例】[5,7,6,9,11,10,8]\n",
    "* 根节点：8\n",
    "* 左子树节点：[5,7,6]\n",
    "* 右子树节点：[9,11,10]\n",
    "* 对于左子树，其根节点是6，其左子树节点是[5]，其右子树节点是[7]\n",
    "* 对于右子树，其根节点是10，其左子树节点是[9]，其右子树节点是[11]\n",
    "\n",
    "由以上分析，用递归的方法判断。总体思想是：先找到根节点，分出左子树和右子树的部分，再在左子树和右子树中进行递归。"
   ]
  },
  {
   "cell_type": "code",
   "execution_count": null,
   "metadata": {},
   "outputs": [],
   "source": [
    "class Solution:\n",
    "    def verifyPostorder(self, postorder: List[int]) -> bool:\n",
    "        length = len(postorder)\n",
    "        start = 0\n",
    "        return self.helper(postorder, length)\n",
    "    \n",
    "    def helper(self, postorder, length):\n",
    "        if postorder == None or length == 0:\n",
    "            return True\n",
    "        \n",
    "        # 当前列表的最后一个元素为当前树的根节点\n",
    "        RootVal = postorder[length-1]\n",
    "        i = 0\n",
    "        j = 0\n",
    "\n",
    "        # 找出左子树的最后一个元素的索引\n",
    "        while i < length - 1:\n",
    "            if postorder[i] > RootVal:\n",
    "                break\n",
    "            i += 1\n",
    "        \n",
    "        # 找出右子树的最后一个元素的索引\n",
    "        j = i\n",
    "        while j < length - 1:\n",
    "            if postorder[j] < RootVal:\n",
    "                return False\n",
    "            j += 1\n",
    "        \n",
    "        left = True\n",
    "        if i > 0:\n",
    "            left = self.helper(postorder, i)\n",
    "        \n",
    "        right = True\n",
    "        if i < length - 1:\n",
    "            right = self.helper(postorder[i:], length-i-1)\n",
    "        \n",
    "        return left and right"
   ]
  }
 ],
 "metadata": {
  "kernelspec": {
   "display_name": "Python 3",
   "language": "python",
   "name": "python3"
  },
  "language_info": {
   "codemirror_mode": {
    "name": "ipython",
    "version": 3
   },
   "file_extension": ".py",
   "mimetype": "text/x-python",
   "name": "python",
   "nbconvert_exporter": "python",
   "pygments_lexer": "ipython3",
   "version": "3.6.5"
  }
 },
 "nbformat": 4,
 "nbformat_minor": 2
}
