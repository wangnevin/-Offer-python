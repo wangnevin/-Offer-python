{
 "cells": [
  {
   "cell_type": "markdown",
   "metadata": {},
   "source": [
    "实现函数double Power(double base, int exponent)，求base的exponent次方。不得使用库函数，同时不需要考虑大数问题。\n",
    "\n",
    "示例 1:\n",
    "输入: 2.00000, 10\n",
    "输出: 1024.00000\n",
    "\n",
    "示例 2:\n",
    "输入: 2.10000, 3\n",
    "输出: 9.26100\n",
    "\n",
    "示例 3:\n",
    "输入: 2.00000, -2\n",
    "输出: 0.25000\n",
    "解释: 2-2 = 1/22 = 1/4 = 0.25\n",
    "\n",
    "说明:\n",
    "\t-100.0 < x < 100.0\n",
    "\tn 是 32 位有符号整数，其数值范围是 [−231, 231 − 1] 。\n",
    "\n",
    "来源：力扣（LeetCode）\n",
    "链接：https://leetcode-cn.com/problems/shu-zhi-de-zheng-shu-ci-fang-lcof\n",
    "著作权归领扣网络所有。商业转载请联系官方授权，非商业转载请注明出处。"
   ]
  },
  {
   "cell_type": "markdown",
   "metadata": {},
   "source": [
    "这道题看起来简单，但有很多要注意的地方。\n",
    "* 1.第一个是错误提示，当底数为0且指数为负时，会出现除数为0的错误。这里我们设置一个bool变量来表示是否运行出错。使用者只要在调用完函数后查看一下这个bool变量就行。\n",
    "* 2.第二个是指数为负时，需要先将指数转为其绝对值，算完后再求倒数。\n",
    "* 3.第三个是两个float类型的数据不能用等号来判断是否相等，只要二者相差非常小我们就认为它们相等。"
   ]
  },
  {
   "cell_type": "code",
   "execution_count": null,
   "metadata": {},
   "outputs": [],
   "source": [
    "class Solution:\n",
    "    g_InvalidInput = False\n",
    "    def myPow(self, x: float, n: int) -> float:\n",
    "        g_InvalidInput = False  # 设置一个bool变量提示错误\n",
    "\n",
    "        # 如果底数为0且指数为负数\n",
    "        if self.equal(x, 0) and n < 0:\n",
    "            g_InvalidInput = True\n",
    "            return 0.0\n",
    "\n",
    "        # 如果指数为负数\n",
    "        if n < 0:\n",
    "            abs_n = -n\n",
    "            return 1.0/self.PowerWithUnsignedExponent(x, abs_n)\n",
    "        \n",
    "        return self.PowerWithUnsignedExponent(x, n)\n",
    "    \n",
    "    # 对于两个float类型的数据，不能用等号判断是否相等，只要它们相差的值足够小，我们就认为它们相等\n",
    "    def equal(self, num1, num2):\n",
    "        if num1 - num2 > -0.0000001 and num1 - num2 < 0.0000001:\n",
    "            return True\n",
    "        return False\n",
    "    \n",
    "    def PowerWithUnsignedExponent(self, base, exponent):\n",
    "        if exponent == 1:\n",
    "            return base\n",
    "        if exponent == 0:\n",
    "            return 1\n",
    "        \n",
    "        result = self.PowerWithUnsignedExponent(base, exponent>>1)  # 用右移运算符代替了除以2，效率更高\n",
    "        result = result * result\n",
    "        if exponent & 0x1 == 1:  # 用位与运算符代替了求余运算符（%）来判断一个数是奇数还是偶数\n",
    "            result = result * base\n",
    "        return result"
   ]
  }
 ],
 "metadata": {
  "kernelspec": {
   "display_name": "Python 3",
   "language": "python",
   "name": "python3"
  },
  "language_info": {
   "codemirror_mode": {
    "name": "ipython",
    "version": 3
   },
   "file_extension": ".py",
   "mimetype": "text/x-python",
   "name": "python",
   "nbconvert_exporter": "python",
   "pygments_lexer": "ipython3",
   "version": "3.7.1"
  }
 },
 "nbformat": 4,
 "nbformat_minor": 2
}
