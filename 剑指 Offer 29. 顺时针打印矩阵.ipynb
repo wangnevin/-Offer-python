{
 "cells": [
  {
   "cell_type": "markdown",
   "metadata": {},
   "source": [
    "# 剑指 Offer 29. 顺时针打印矩阵\n",
    "\n",
    "输入一个矩阵，按照从外向里以顺时针的顺序依次打印出每一个数字。\n",
    "\n",
    "示例 1：\n",
    "输入：matrix = [[1,2,3],[4,5,6],[7,8,9]]\n",
    "输出：[1,2,3,6,9,8,7,4,5]\n",
    "\n",
    "示例 2：\n",
    "输入：matrix = [[1,2,3,4],[5,6,7,8],[9,10,11,12]]\n",
    "输出：[1,2,3,4,8,12,11,10,9,5,6,7]\n",
    "\n",
    "限制：\n",
    "\t0 <= matrix.length <= 100\n",
    "\t0 <= matrix[i].length <= 100\n",
    "\n",
    "来源：力扣（LeetCode）\n",
    "链接：https://leetcode-cn.com/problems/shun-shi-zhen-da-yin-ju-zhen-lcof\n",
    "著作权归领扣网络所有。商业转载请联系官方授权，非商业转载请注明出处。"
   ]
  },
  {
   "cell_type": "code",
   "execution_count": null,
   "metadata": {},
   "outputs": [],
   "source": [
    "class Solution:\n",
    "    def spiralOrder(self, matrix: List[List[int]]) -> List[int]:\n",
    "        if matrix == None or len(matrix) == 0:\n",
    "            return []\n",
    "        rows = len(matrix)\n",
    "        columns = len(matrix[0])\n",
    "        result = []\n",
    "\n",
    "        start = 0\n",
    "\n",
    "        while rows>start*2 and columns>start*2:\n",
    "            # 按顺时针打印一圈\n",
    "            result = self.PrintMartixInCircle(matrix, columns, rows, start, result)\n",
    "            start += 1\n",
    "        \n",
    "        return result\n",
    "\n",
    "    \n",
    "    def PrintMartixInCircle(self, matrix, columns, rows, start, result):\n",
    "        endX = columns - 1 -start\n",
    "        endY = rows - 1 -start\n",
    "\n",
    "        # 从左到右打印一行\n",
    "        for i in range(start, endX+1):\n",
    "            result.append(matrix[start][i])\n",
    "\n",
    "        # 从上到下打印一列\n",
    "        if start < endY:\n",
    "            for i in range(start+1, endY+1):\n",
    "                result.append(matrix[i][endX])\n",
    "        \n",
    "        # 从右到左打印一行\n",
    "        if start < endX and start < endY:\n",
    "            i = endX - 1\n",
    "            while i >= start:\n",
    "                result.append(matrix[endY][i])\n",
    "                i -= 1\n",
    "        \n",
    "        # 从下到上打印一行\n",
    "        if start < endX and start < endY - 1:\n",
    "            i = endY - 1\n",
    "            while i >= start + 1:\n",
    "                result.append(matrix[i][start])\n",
    "                i -= 1\n",
    "        \n",
    "        return result"
   ]
  }
 ],
 "metadata": {
  "kernelspec": {
   "display_name": "Python 3",
   "language": "python",
   "name": "python3"
  },
  "language_info": {
   "codemirror_mode": {
    "name": "ipython",
    "version": 3
   },
   "file_extension": ".py",
   "mimetype": "text/x-python",
   "name": "python",
   "nbconvert_exporter": "python",
   "pygments_lexer": "ipython3",
   "version": "3.6.5"
  }
 },
 "nbformat": 4,
 "nbformat_minor": 2
}
