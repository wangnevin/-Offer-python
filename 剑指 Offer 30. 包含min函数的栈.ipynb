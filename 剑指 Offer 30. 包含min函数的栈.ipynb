{
 "cells": [
  {
   "cell_type": "markdown",
   "metadata": {},
   "source": [
    "# 剑指 Offer 30. 包含min函数的栈\n",
    "\n",
    "定义栈的数据结构，请在该类型中实现一个能够得到栈的最小元素的 min 函数在该栈中，调用 min、push 及 pop 的时间复杂度都是 O(1)。\n",
    "\n",
    "示例:\n",
    "MinStack minStack = new MinStack();\n",
    "minStack.push(-2);\n",
    "minStack.push(0);\n",
    "minStack.push(-3);\n",
    "minStack.min();   --> 返回 -3.\n",
    "minStack.pop();\n",
    "minStack.top();   --> 返回 0.\n",
    "minStack.min();   --> 返回 -2.\n",
    "\n",
    "提示：各函数的调用总次数不超过 20000 次\n",
    "\n",
    "来源：力扣（LeetCode）\n",
    "链接：https://leetcode-cn.com/problems/bao-han-minhan-shu-de-zhan-lcof\n",
    "著作权归领扣网络所有。商业转载请联系官方授权，非商业转载请注明出处。"
   ]
  },
  {
   "cell_type": "markdown",
   "metadata": {},
   "source": [
    "这道题需要保证在弹出最小数据后，依然能找到次小数据，这就需要辅助栈的帮助，并且当前栈的最小值必须在辅助栈的栈顶\n",
    "\n",
    "数据栈：data = []  正常的压入操作\n",
    "辅助栈：mini = []  在数据栈进行压入操作时，压入当前栈的最小值\n",
    "\n",
    "* 1.压入3，最小值为3，此时data=[3]，mini=[3]\n",
    "* 2.压入4，最小值为3，此时data=[3,4]，mini=[3,3]\n",
    "* 3.压入2，最小值为2，此时data=[3,4,2]，mini=[3,3,2]\n",
    "* 4.压入1，最小值为1，此时data=[3,4,2,1]，mini=[3,3,2,1]\n",
    "* 5.弹出，从data中弹出1，从mini中弹出1，此时最小值为2，data=[3,4,2]，mini=[3,3,2]\n",
    "* 6.弹出，从data中弹出2，从mini中弹出2，此时最小值为3，data=[3,4]，mini=[3,3]\n",
    "* 7.压入0，最小值为0，此时data=[3,4,0]，mini=[3,3,0]\n",
    "\n",
    "可以看到，以上步骤中，栈的最小值永远位于辅助栈的栈顶。"
   ]
  },
  {
   "cell_type": "code",
   "execution_count": null,
   "metadata": {},
   "outputs": [],
   "source": [
    "class MinStack:\n",
    "\n",
    "    def __init__(self):\n",
    "        \"\"\"\n",
    "        initialize your data structure here.\n",
    "        \"\"\"\n",
    "        self.data = []  # 数据栈\n",
    "        self.mini = []  # 辅助栈\n",
    "\n",
    "    def push(self, x: int) -> None:\n",
    "        self.data.append(x)\n",
    "        if len(self.mini) == 0 or self.mini[-1] > x:\n",
    "            self.mini.append(x)\n",
    "        else:\n",
    "            self.mini.append(self.mini[-1])\n",
    "\n",
    "    def pop(self) -> None:\n",
    "        result = self.data.pop()\n",
    "        self.mini.pop()\n",
    "        return result\n",
    "\n",
    "    def top(self) -> int:\n",
    "        return self.data[-1]\n",
    "\n",
    "    def min(self) -> int:\n",
    "        return self.mini[-1]\n",
    "    \n",
    "\n",
    "# Your MinStack object will be instantiated and called as such:\n",
    "# obj = MinStack()\n",
    "# obj.push(x)\n",
    "# obj.pop()\n",
    "# param_3 = obj.top()\n",
    "# param_4 = obj.min()"
   ]
  }
 ],
 "metadata": {
  "kernelspec": {
   "display_name": "Python 3",
   "language": "python",
   "name": "python3"
  },
  "language_info": {
   "codemirror_mode": {
    "name": "ipython",
    "version": 3
   },
   "file_extension": ".py",
   "mimetype": "text/x-python",
   "name": "python",
   "nbconvert_exporter": "python",
   "pygments_lexer": "ipython3",
   "version": "3.6.5"
  }
 },
 "nbformat": 4,
 "nbformat_minor": 2
}
