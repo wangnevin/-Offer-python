{
 "cells": [
  {
   "cell_type": "markdown",
   "metadata": {},
   "source": [
    "# 剑指 Offer 32 - I. 从上到下打印二叉树\n",
    "\n",
    "从上到下打印出二叉树的每个节点，同一层的节点按照从左到右的顺序打印。\n",
    "\n",
    "例如:\n",
    "给定二叉树: [3,9,20,null,null,15,7],\n",
    "    3\n",
    "   / \\\n",
    "  9  20\n",
    "    /  \\\n",
    "   15   7\n",
    "\n",
    "\n",
    "返回：\n",
    "[3,9,20,15,7]\n",
    "\n",
    "\n",
    "提示：节点总数 <= 1000\n",
    "\n",
    "来源：力扣（LeetCode）\n",
    "链接：https://leetcode-cn.com/problems/cong-shang-dao-xia-da-yin-er-cha-shu-lcof\n",
    "著作权归领扣网络所有。商业转载请联系官方授权，非商业转载请注明出处。"
   ]
  },
  {
   "cell_type": "markdown",
   "metadata": {},
   "source": [
    "先将root加入一个先进先出列队中，然后每次从列队中取出一个节点，将其值打印出来，同时将其左节点与右节点加入列队中，再从列队中取出一个节点，重复以上步骤，直到列队为空。\n",
    "\n",
    "【例】以上面的树为例\n",
    "* 1.将根节点加入queue列队中，queue=[node3]\n",
    "* 2.从queue中取出一个节点，打印其值(3)，同时向列队中加入其左右子节点，queue=[node9,node20]\n",
    "* 3.从queue中取出一个节点，打印其值(9)，同时向列队中加入其左右子节点(None)，queue=[node20]\n",
    "* 4.从queue中取出一个节点，打印其值(20)，同时向列队中加入其左右子节点，queue=[node15,node7]\n",
    "* 5.从queue中取出一个节点，打印其值(15)，同时向列队中加入其左右子节点(None)，queue=[node7]\n",
    "* 6.从queue中取出一个节点，打印其值(7)，同时向列队中加入其左右子节点(None)，queue=[]\n",
    "* 7.queue为空，结束\n",
    "\n",
    "打印顺序刚好符合要求：3,9,20,15,7"
   ]
  },
  {
   "cell_type": "code",
   "execution_count": null,
   "metadata": {},
   "outputs": [],
   "source": [
    "# Definition for a binary tree node.\n",
    "# class TreeNode:\n",
    "#     def __init__(self, x):\n",
    "#         self.val = x\n",
    "#         self.left = None\n",
    "#         self.right = None\n",
    "\n",
    "class Solution:\n",
    "    def levelOrder(self, root: TreeNode) -> List[int]:\n",
    "        if root == None:\n",
    "            return []\n",
    "        \n",
    "        queue = []\n",
    "        queue.append(root)\n",
    "        result = []\n",
    "\n",
    "        while len(queue) != 0:\n",
    "            current = queue.pop(0)\n",
    "            result.append(current.val)\n",
    "\n",
    "            if current.left != None:\n",
    "                queue.append(current.left)\n",
    "            if current.right != None:\n",
    "                queue.append(current.right)\n",
    "        \n",
    "        return result"
   ]
  }
 ],
 "metadata": {
  "kernelspec": {
   "display_name": "Python 3",
   "language": "python",
   "name": "python3"
  },
  "language_info": {
   "codemirror_mode": {
    "name": "ipython",
    "version": 3
   },
   "file_extension": ".py",
   "mimetype": "text/x-python",
   "name": "python",
   "nbconvert_exporter": "python",
   "pygments_lexer": "ipython3",
   "version": "3.6.5"
  }
 },
 "nbformat": 4,
 "nbformat_minor": 2
}
