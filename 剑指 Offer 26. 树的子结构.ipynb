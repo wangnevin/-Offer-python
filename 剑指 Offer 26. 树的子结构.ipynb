{
 "cells": [
  {
   "cell_type": "markdown",
   "metadata": {},
   "source": [
    "# 剑指 Offer 26. 树的子结构\n",
    "\n",
    "输入两棵二叉树A和B，判断B是不是A的子结构。(约定空树不是任意一个树的子结构)\n",
    "B是A的子结构， 即 A中有出现和B相同的结构和节点值。\n",
    "\n",
    "例如:\n",
    "\n",
    "给定的树 A:\n",
    "     3\n",
    "    / \\\n",
    "   4   5\n",
    "  / \\\n",
    " 1   2\n",
    "\n",
    "给定的树 B：\n",
    "   4 \n",
    "  /\n",
    " 1\n",
    "\n",
    "返回 true，因为 B 与 A 的一个子树拥有相同的结构和节点值。\n",
    "\n",
    "\n",
    "示例 1：\n",
    "输入：A = [1,2,3], B = [3,1]\n",
    "输出：false\n",
    "\n",
    "示例 2：\n",
    "输入：A = [3,4,5,1,2], B = [4,1]\n",
    "输出：true\n",
    "\n",
    "限制：\n",
    "0 <= 节点个数 <= 10000\n",
    "\n",
    "来源：力扣（LeetCode）\n",
    "链接：https://leetcode-cn.com/problems/shu-de-zi-jie-gou-lcof\n",
    "著作权归领扣网络所有。商业转载请联系官方授权，非商业转载请注明出处。"
   ]
  },
  {
   "cell_type": "markdown",
   "metadata": {},
   "source": [
    "这道题最重要的就是递归的思想\n",
    "\n",
    "从A的根节点开始，\n",
    "* 1.如果当前A的节点的值和B的根节点相等，则递归地验证以当前节点为根节点的子树的左右子树是否与B的左右子树相等\n",
    "* 2.如果当前A的节点的值和B的根节点不等，则先递归地到A的左子树中找是否包含B\n",
    "* 3.如果左子树中无B，则再递归地在A的右子树中找是否包含B"
   ]
  },
  {
   "cell_type": "code",
   "execution_count": null,
   "metadata": {},
   "outputs": [],
   "source": [
    "# Definition for a binary tree node.\n",
    "# class TreeNode:\n",
    "#     def __init__(self, x):\n",
    "#         self.val = x\n",
    "#         self.left = None\n",
    "#         self.right = None\n",
    "\n",
    "class Solution:\n",
    "    def isSubStructure(self, A: TreeNode, B: TreeNode) -> bool:\n",
    "        result = False\n",
    "\n",
    "        if A != None and B != None:\n",
    "            if A.val == B.val:\n",
    "                # 验证是否找到了子树\n",
    "                result = self.DoesTree1HasTree2(A, B)\n",
    "            if not result:\n",
    "                # 到A的左子树中找B\n",
    "                result = self.isSubStructure(A.left, B)\n",
    "            if not result:\n",
    "                # 到A的右子树中找B\n",
    "                result = self.isSubStructure(A.right, B)\n",
    "        \n",
    "        return result\n",
    "\n",
    "    def DoesTree1HasTree2(self, A, B):\n",
    "        if B == None:\n",
    "            return True\n",
    "        if A == None:\n",
    "            return False\n",
    "        if A.val != B.val:\n",
    "            return False\n",
    "\n",
    "        return self.DoesTree1HasTree2(A.left, B.left) and self.DoesTree1HasTree2(A.right, B.right)"
   ]
  }
 ],
 "metadata": {
  "kernelspec": {
   "display_name": "Python 3",
   "language": "python",
   "name": "python3"
  },
  "language_info": {
   "codemirror_mode": {
    "name": "ipython",
    "version": 3
   },
   "file_extension": ".py",
   "mimetype": "text/x-python",
   "name": "python",
   "nbconvert_exporter": "python",
   "pygments_lexer": "ipython3",
   "version": "3.6.5"
  }
 },
 "nbformat": 4,
 "nbformat_minor": 2
}
