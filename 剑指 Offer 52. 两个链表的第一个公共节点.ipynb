{
 "cells": [
  {
   "cell_type": "markdown",
   "metadata": {},
   "source": [
    "剑指 Offer 52. 两个链表的第一个公共节点\n",
    "\n",
    "输入两个链表，找出它们的第一个公共节点。\n",
    "\n",
    "\n",
    "示例 1：\n",
    "输入：intersectVal = 8, listA = [4,1,8,4,5], listB = [5,0,1,8,4,5], skipA = 2, skipB = 3\n",
    "输出：Reference of the node with value = 8\n",
    "输入解释：相交节点的值为 8 （注意，如果两个列表相交则不能为 0）。从各自的表头开始算起，链表 A 为 [4,1,8,4,5]，链表 B 为 [5,0,1,8,4,5]。在 A 中，相交节点前有 2 个节点；在 B 中，相交节点前有 3 个节点。\n",
    "\n",
    "\n",
    "示例 2：\n",
    "输入：intersectVal = 2, listA = [0,9,1,2,4], listB = [3,2,4], skipA = 3, skipB = 1\n",
    "输出：Reference of the node with value = 2\n",
    "输入解释：相交节点的值为 2 （注意，如果两个列表相交则不能为 0）。从各自的表头开始算起，链表 A 为 [0,9,1,2,4]，链表 B 为 [3,2,4]。在 A 中，相交节点前有 3 个节点；在 B 中，相交节点前有 1 个节点。\n",
    "\n",
    "\n",
    "示例 3：\n",
    "输入：intersectVal = 0, listA = [2,6,4], listB = [1,5], skipA = 3, skipB = 2\n",
    "输出：null\n",
    "输入解释：从各自的表头开始算起，链表 A 为 [2,6,4]，链表 B 为 [1,5]。由于这两个链表不相交，所以 intersectVal 必须为 0，而 skipA 和 skipB 可以是任意值。\n",
    "解释：这两个链表不相交，因此返回 null。\n",
    "\n",
    "\n",
    "注意：\n",
    "\t如果两个链表没有交点，返回 null.\n",
    "\t在返回结果后，两个链表仍须保持原有的结构。\n",
    "\t可假定整个链表结构中没有循环。\n",
    "\t程序尽量满足 O(n) 时间复杂度，且仅用 O(1) 内存。\n",
    "\n",
    "\n",
    "来源：力扣（LeetCode）\n",
    "链接：https://leetcode-cn.com/problems/liang-ge-lian-biao-de-di-yi-ge-gong-gong-jie-dian-lcof\n",
    "著作权归领扣网络所有。商业转载请联系官方授权，非商业转载请注明出处。"
   ]
  },
  {
   "cell_type": "markdown",
   "metadata": {},
   "source": [
    "首先遍历两个链表得到它们的长度，就能知道哪个链表比较长，以及长的链表比短的链表多几个结点。在第二次遍历的时候，在较长的链表上先走若干步，接着再同时在两个链表上遍历，找到的第一个相同的结点就是它们的第一个公共结点。"
   ]
  },
  {
   "cell_type": "code",
   "execution_count": null,
   "metadata": {},
   "outputs": [],
   "source": [
    "# Definition for singly-linked list.\n",
    "# class ListNode:\n",
    "#     def __init__(self, x):\n",
    "#         self.val = x\n",
    "#         self.next = None\n",
    "\n",
    "class Solution:\n",
    "    def getIntersectionNode(self, headA: ListNode, headB: ListNode) -> ListNode:\n",
    "        Length1 = self.GetListLength(headA)\n",
    "        Length2 = self.GetListLength(headB)\n",
    "        LengthDif = Length1 - Length2\n",
    "\n",
    "        ListHeadLong = headA\n",
    "        ListHeadShort = headB\n",
    "\n",
    "        if Length1 < Length2:\n",
    "            ListHeadLong = headB\n",
    "            ListHeadShort = headA\n",
    "            LengthDif = Length2 - Length1\n",
    "        \n",
    "        # 先在长链表上走几步\n",
    "        for i in range(LengthDif):\n",
    "            ListHeadLong = ListHeadLong.next\n",
    "        \n",
    "        # 同时在两个链表上遍历，直到遇到相同的节点\n",
    "        while ListHeadLong != None and ListHeadShort != None and ListHeadLong != ListHeadShort:\n",
    "            ListHeadLong = ListHeadLong.next\n",
    "            ListHeadShort = ListHeadShort.next\n",
    "        \n",
    "        FirstCommonNode = ListHeadLong\n",
    "\n",
    "        return FirstCommonNode\n",
    "    \n",
    "    def GetListLength(self, head):\n",
    "        Length = 0\n",
    "        Node = head\n",
    "        while Node != None:\n",
    "            Length += 1\n",
    "            Node = Node.next\n",
    "        return Length"
   ]
  }
 ],
 "metadata": {
  "kernelspec": {
   "display_name": "Python 3",
   "language": "python",
   "name": "python3"
  },
  "language_info": {
   "codemirror_mode": {
    "name": "ipython",
    "version": 3
   },
   "file_extension": ".py",
   "mimetype": "text/x-python",
   "name": "python",
   "nbconvert_exporter": "python",
   "pygments_lexer": "ipython3",
   "version": "3.6.5"
  }
 },
 "nbformat": 4,
 "nbformat_minor": 2
}
