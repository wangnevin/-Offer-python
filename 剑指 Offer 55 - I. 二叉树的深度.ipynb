{
 "cells": [
  {
   "cell_type": "markdown",
   "metadata": {},
   "source": [
    "剑指 Offer 55 - I. 二叉树的深度\n",
    "\n",
    "输入一棵二叉树的根节点，求该树的深度。从根节点到叶节点依次经过的节点（含根、叶节点）形成树的一条路径，最长路径的长度为树的深度。\n",
    "\n",
    "例如：\n",
    "\n",
    "给定二叉树 [3,9,20,null,null,15,7]，\n",
    "    3\n",
    "   / \\\n",
    "  9   20\n",
    "     /  \\\n",
    "    15   7\n",
    "\n",
    "返回它的最大深度 3 。\n",
    "\n",
    "\n",
    "提示：节点总数 <= 10000\n",
    "\n",
    "\n",
    "来源：力扣（LeetCode）\n",
    "链接：https://leetcode-cn.com/problems/er-cha-shu-de-shen-du-lcof\n",
    "著作权归领扣网络所有。商业转载请联系官方授权，非商业转载请注明出处。"
   ]
  },
  {
   "cell_type": "markdown",
   "metadata": {},
   "source": [
    "* 1.如果一棵树只有一个结点，它的深度为1。\n",
    "* 2.如果根结点只有左子树而没有右子树，那么树的深度应该是其左子树的深度加1；\n",
    "* 3.如果根结点只有右子树而没有左子树，那么树的深度应该是其右子树的深度加1。\n",
    "* 4.如果既有右子树又有左子树，那该树的深度就是其左、右子树深度的较大值再加1。"
   ]
  },
  {
   "cell_type": "code",
   "execution_count": null,
   "metadata": {},
   "outputs": [],
   "source": [
    "# Definition for a binary tree node.\n",
    "# class TreeNode:\n",
    "#     def __init__(self, x):\n",
    "#         self.val = x\n",
    "#         self.left = None\n",
    "#         self.right = None\n",
    "\n",
    "class Solution:\n",
    "    def maxDepth(self, root: TreeNode) -> int:\n",
    "        if root == None:\n",
    "            return 0\n",
    "        \n",
    "        leftDepth = self.maxDepth(root.left)\n",
    "        rightDepth = self.maxDepth(root.right)\n",
    "\n",
    "        if leftDepth > rightDepth:\n",
    "            return leftDepth + 1\n",
    "        else:\n",
    "            return rightDepth + 1"
   ]
  }
 ],
 "metadata": {
  "kernelspec": {
   "display_name": "Python 3",
   "language": "python",
   "name": "python3"
  },
  "language_info": {
   "codemirror_mode": {
    "name": "ipython",
    "version": 3
   },
   "file_extension": ".py",
   "mimetype": "text/x-python",
   "name": "python",
   "nbconvert_exporter": "python",
   "pygments_lexer": "ipython3",
   "version": "3.6.5"
  }
 },
 "nbformat": 4,
 "nbformat_minor": 2
}
