{
 "cells": [
  {
   "cell_type": "markdown",
   "metadata": {},
   "source": [
    "# 剑指 Offer 39. 数组中出现次数超过一半的数字\n",
    "\n",
    "数组中有一个数字出现的次数超过数组长度的一半，请找出这个数字。\n",
    "\n",
    "你可以假设数组是非空的，并且给定的数组总是存在多数元素。\n",
    "\n",
    "\n",
    "示例 1:\n",
    "输入: [1, 2, 3, 2, 2, 2, 5, 4, 2]\n",
    "输出: 2\n",
    "\n",
    "\n",
    "限制：1 <= 数组长度 <= 50000\n",
    "\n",
    "\n",
    "来源：力扣（LeetCode）\n",
    "链接：https://leetcode-cn.com/problems/shu-zu-zhong-chu-xian-ci-shu-chao-guo-yi-ban-de-shu-zi-lcof\n",
    "著作权归领扣网络所有。商业转载请联系官方授权，非商业转载请注明出处。"
   ]
  },
  {
   "cell_type": "markdown",
   "metadata": {},
   "source": [
    "在遍历数组的时候我们需要保存两个值：\n",
    "* 1.数组中的一个数字（保存到变量result中）\n",
    "* 2.次数（保存到变量times中）\n",
    "\n",
    "当遍历到下一个数字的时候：\n",
    "* 1.如果下一个数字和我们之前保存的数字相同，则次数加1；\n",
    "* 2.如果下一个数字和我们之前保存的数字不同，则次数减1。\n",
    "* 3.如果次数为零，则保存下一个数字，并把次数设为1。\n",
    "\n",
    "由于我们要找的数字出现的次数比其他所有数字出现的次数之和还要多，那么要找的数字肯定是最后一次把次数设为1时对应的数字。"
   ]
  },
  {
   "cell_type": "code",
   "execution_count": null,
   "metadata": {},
   "outputs": [],
   "source": [
    "class Solution:\n",
    "    def majorityElement(self, nums: List[int]) -> int:\n",
    "        # 遍历过程中需要保存的两个变量\n",
    "        result = nums[0]\n",
    "        times = 1\n",
    "\n",
    "        for i in range(1, len(nums)):\n",
    "            # 如果次数为零，则保存下一个数字，并把次数设为1\n",
    "            if times == 0:\n",
    "                result = nums[i]\n",
    "                times = 1\n",
    "            \n",
    "            # 如果下一个数字和我们之前保存的数字相同，则次数加1\n",
    "            elif nums[i] == result:\n",
    "                times += 1\n",
    "            \n",
    "            # 如果下一个数字和我们之前保存的数字不同，则次数减1\n",
    "            else:\n",
    "                times -= 1\n",
    "        \n",
    "        return result"
   ]
  }
 ],
 "metadata": {
  "kernelspec": {
   "display_name": "Python 3",
   "language": "python",
   "name": "python3"
  },
  "language_info": {
   "codemirror_mode": {
    "name": "ipython",
    "version": 3
   },
   "file_extension": ".py",
   "mimetype": "text/x-python",
   "name": "python",
   "nbconvert_exporter": "python",
   "pygments_lexer": "ipython3",
   "version": "3.7.1"
  }
 },
 "nbformat": 4,
 "nbformat_minor": 2
}
