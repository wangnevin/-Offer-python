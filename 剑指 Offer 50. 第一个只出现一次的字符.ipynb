{
 "cells": [
  {
   "cell_type": "markdown",
   "metadata": {},
   "source": [
    "# 剑指 Offer 50. 第一个只出现一次的字符\n",
    "\n",
    "在字符串 s 中找出第一个只出现一次的字符。如果没有，返回一个单空格。 s 只包含小写字母。\n",
    "\n",
    "示例:\n",
    "\n",
    "s = \"abaccdeff\"\n",
    "返回 \"b\"\n",
    "\n",
    "s = \"\" \n",
    "返回 \" \"\n",
    "\n",
    "\n",
    "限制：0 <= s 的长度 <= 50000\n",
    "\n",
    "来源：力扣（LeetCode）\n",
    "链接：https://leetcode-cn.com/problems/di-yi-ge-zhi-chu-xian-yi-ci-de-zi-fu-lcof\n",
    "著作权归领扣网络所有。商业转载请联系官方授权，非商业转载请注明出处。"
   ]
  },
  {
   "cell_type": "code",
   "execution_count": null,
   "metadata": {},
   "outputs": [],
   "source": [
    "class Solution:\n",
    "    def firstUniqChar(self, s: str) -> str:\n",
    "        if len(s) == 0:\n",
    "            return \" \"\n",
    "        \n",
    "        count = dict()\n",
    "\n",
    "        for i in range(len(s)):\n",
    "            if s[i] not in count:\n",
    "                count[s[i]] = 1\n",
    "            else:\n",
    "                count[s[i]] += 1\n",
    "        \n",
    "        for key,val in count.items():\n",
    "            if val == 1:\n",
    "                return key\n",
    "        \n",
    "        return \" \""
   ]
  }
 ],
 "metadata": {
  "kernelspec": {
   "display_name": "Python 3",
   "language": "python",
   "name": "python3"
  },
  "language_info": {
   "codemirror_mode": {
    "name": "ipython",
    "version": 3
   },
   "file_extension": ".py",
   "mimetype": "text/x-python",
   "name": "python",
   "nbconvert_exporter": "python",
   "pygments_lexer": "ipython3",
   "version": "3.7.1"
  }
 },
 "nbformat": 4,
 "nbformat_minor": 2
}
