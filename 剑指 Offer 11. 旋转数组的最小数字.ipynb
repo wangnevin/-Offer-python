{
 "cells": [
  {
   "cell_type": "markdown",
   "metadata": {},
   "source": [
    "# 剑指 Offer 11. 旋转数组的最小数字\n",
    "\n",
    "把一个数组最开始的若干个元素搬到数组的末尾，我们称之为数组的旋转。输入一个递增排序的数组的一个旋转，输出旋转数组的最小元素。例如，数组 [3,4,5,1,2] 为 [1,2,3,4,5] 的一个旋转，该数组的最小值为1。  \n",
    "\n",
    "示例 1：\n",
    "输入：[3,4,5,1,2]\n",
    "输出：1\n",
    "\n",
    "\n",
    "示例 2：\n",
    "输入：[2,2,2,0,1]\n",
    "输出：0\n",
    "\n",
    "来源：力扣（LeetCode）\n",
    "链接：https://leetcode-cn.com/problems/xuan-zhuan-shu-zu-de-zui-xiao-shu-zi-lcof\n",
    "著作权归领扣网络所有。商业转载请联系官方授权，非商业转载请注明出处。"
   ]
  },
  {
   "cell_type": "markdown",
   "metadata": {},
   "source": [
    "例：[1,2,3,4,5,6,7] --> [4,5,6,7,1,2,3]\n",
    "\n",
    "旋转后的排序数组有以下特点：\n",
    "* 1.旋转后数组为两个局部排序的子数组（前半数组[4,5,6,7]和后半数组[1,2,3]）的和。\n",
    "* 2.旋转数组的前半部分的元素[4,5,6,7]全部大于或等于后半部分的元素[1,2,3]。\n",
    "* 3.旋转数组的第一个元素必定小于或等于最后一个元素（4 < 3）。\n",
    "* 4.旋转数组的最小元素为后半数组的第一个元素。\n",
    "\n",
    "有了以上规律，我们可以借用二分查找的思想，来找出最小元素\n",
    "* 1.设定两个指针lo和hi，lo指向头元素(4)，hi指向尾元素(3)。\n",
    "* 2.找出中间元素指针mid=int(lo+hi)/2 (指向7)。\n",
    "* 3.如果arr[mid]>arr[lo]，说明此时中间元素在前半数组中，那么最小元素必定在中间元素后面。因此我们令lo重新指向中间元素，令搜索区间减半。\n",
    "* 4.如果arr[mid]<arr[hi]，说明此时中间元素在后半数组中，那么最小元素必定在中间元素前面。因此我们令hi重新指向中间元素，令搜索区间减半。\n",
    "* 5.重复以上两步，当lo和hi指向相邻两个元素时，hi指向的元素即为最小的元素。\n",
    "\n",
    "但是以上步骤并不完美：\n",
    "* 1.如果把一个排序数组前0个元素旋转到后面，这依然符合旋转数组的定义，但是整个数组依然是排好序的。这种情况直接返回第一个元素即可。\n",
    "* 2.比如[0,1,1,1,1]，旋转后[1,0,1,1,1]或[1,1,1,0,1]，此时lo，mid和hi指向的元素相等（都为1），并不能判断出中间元素在前半还是后半数组中。这种情况下，只能用顺序查找找到最小的元素。"
   ]
  },
  {
   "cell_type": "code",
   "execution_count": null,
   "metadata": {},
   "outputs": [],
   "source": [
    "class Solution:\n",
    "    def minArray(self, numbers: List[int]) -> int:\n",
    "        if len(numbers) == 0:\n",
    "            return\n",
    "        if len(numbers) == 1:\n",
    "            return numbers[0]\n",
    "\n",
    "        lo = 0\n",
    "        hi = len(numbers) - 1\n",
    "        mid = lo\n",
    "\n",
    "        # 把一个排序数组前0个元素旋转到后面，整个数组依然是排好序的，直接返回第一个元素\n",
    "        if numbers[lo] < numbers[hi]:\n",
    "            return numbers[lo]\n",
    "\n",
    "        while lo < hi:\n",
    "            # 结束循环条件\n",
    "            if hi - lo == 1:\n",
    "                return numbers[hi]\n",
    "            \n",
    "            mid = int((lo + hi) / 2)\n",
    "            \n",
    "            # 如果lo，mid和hi指向的元素全都相等，这一部分数组用顺序查找\n",
    "            if numbers[lo] == numbers[mid] and numbers[mid] == numbers[hi]:\n",
    "                return self.Mininorder(numbers, lo, hi)\n",
    "\n",
    "            # 将查找范围缩小到后面一半数组\n",
    "            if numbers[lo] < numbers[mid] or numbers[mid] > numbers[hi]:\n",
    "                lo = mid\n",
    "            # 将查找范围缩小到前面一半数组\n",
    "            elif numbers[lo] > numbers[mid] or numbers[mid] < numbers[hi]:\n",
    "                hi = mid\n",
    "        \n",
    "    def Mininorder(self, arr, lo, hi):\n",
    "        if len(arr) == 0 or lo > hi:\n",
    "            return\n",
    "        mini = arr[lo]\n",
    "        for i in range(lo, hi+1):\n",
    "            if arr[i] < mini:\n",
    "                mini = arr[i]\n",
    "        return mini"
   ]
  }
 ],
 "metadata": {
  "kernelspec": {
   "display_name": "Python 3",
   "language": "python",
   "name": "python3"
  },
  "language_info": {
   "codemirror_mode": {
    "name": "ipython",
    "version": 3
   },
   "file_extension": ".py",
   "mimetype": "text/x-python",
   "name": "python",
   "nbconvert_exporter": "python",
   "pygments_lexer": "ipython3",
   "version": "3.7.1"
  }
 },
 "nbformat": 4,
 "nbformat_minor": 2
}
