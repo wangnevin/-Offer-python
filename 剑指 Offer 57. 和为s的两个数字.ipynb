{
 "cells": [
  {
   "cell_type": "markdown",
   "metadata": {},
   "source": [
    "# 剑指 Offer 57. 和为s的两个数字\n",
    "\n",
    "输入一个递增排序的数组和一个数字s，在数组中查找两个数，使得它们的和正好是s。如果有多对数字的和等于s，则输出任意一对即可。\n",
    "\n",
    "\n",
    "示例 1：\n",
    "输入：nums = [2,7,11,15], target = 9\n",
    "输出：[2,7] 或者 [7,2]\n",
    "\n",
    "示例 2：\n",
    "输入：nums = [10,26,30,31,47,60], target = 40\n",
    "输出：[10,30] 或者 [30,10]\n",
    " \n",
    "\n",
    "限制：\n",
    "1 <= nums.length <= 10^5\n",
    "1 <= nums[i] <= 10^6\n",
    "\n",
    "\n",
    "来源：力扣（LeetCode）\n",
    "链接：https://leetcode-cn.com/problems/he-wei-sde-liang-ge-shu-zi-lcof\n",
    "著作权归领扣网络所有。商业转载请联系官方授权，非商业转载请注明出处。"
   ]
  },
  {
   "cell_type": "markdown",
   "metadata": {},
   "source": [
    "* 我们先在数组中选择两个数字，如果它们的和等于输入的s，我们就找到了要找的两个数字。\n",
    "* 如果和小于s，我们希望两个数字的和再大一点。由于数组已经排好序了，我们可以考虑选择较小的数字后面的数字。\n",
    "* 如果和大于s，我们可以选择较大数字前面的数字，因为排在数组前面的数字要小一些。\n",
    "\n",
    "【例】[1,2,4,7,11,15], target=15\n",
    "*  1.首先定义两个指针，第一个指针指向数组的第一个数字1，第二个指针指向数组的最后一个数字15。\n",
    "*  2.这时两个数字1与15的和是16，大于15。因此我们把第二个指针向前移动一个数字，让它指向11。\n",
    "*  3.这时两个数字1与11的和是12，小于15。因此我们把第一个指针向后移动一个数字，让它指向2。\n",
    "*  4.此时两个数字2与11的和是13，小于15。因此我们把第一个指针向后移动一个数字，让它指向4。\n",
    "*  5.数字4、11的和是15，正是我们期待的结果。"
   ]
  },
  {
   "cell_type": "code",
   "execution_count": null,
   "metadata": {},
   "outputs": [],
   "source": [
    "class Solution:\n",
    "    def twoSum(self, nums: List[int], target: int) -> List[int]:\n",
    "        if nums == None or len(nums) == 0:\n",
    "            return\n",
    "        \n",
    "        start = 0\n",
    "        end = len(nums) - 1\n",
    "\n",
    "        while start < end:\n",
    "            if nums[start] + nums[end] == target:\n",
    "                return [nums[start], nums[end]]\n",
    "            \n",
    "            elif nums[start] + nums[end] < target:\n",
    "                start += 1\n",
    "            \n",
    "            else:\n",
    "                end -= 1\n",
    "        \n",
    "        return []"
   ]
  }
 ],
 "metadata": {
  "kernelspec": {
   "display_name": "Python 3",
   "language": "python",
   "name": "python3"
  },
  "language_info": {
   "codemirror_mode": {
    "name": "ipython",
    "version": 3
   },
   "file_extension": ".py",
   "mimetype": "text/x-python",
   "name": "python",
   "nbconvert_exporter": "python",
   "pygments_lexer": "ipython3",
   "version": "3.6.5"
  }
 },
 "nbformat": 4,
 "nbformat_minor": 2
}
