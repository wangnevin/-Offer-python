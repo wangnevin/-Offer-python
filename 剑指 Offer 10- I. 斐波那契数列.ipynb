{
 "cells": [
  {
   "cell_type": "markdown",
   "metadata": {},
   "source": [
    "# 剑指 Offer 10- I. 斐波那契数列\n",
    "\n",
    "写一个函数，输入 n ，求斐波那契（Fibonacci）数列的第 n 项。斐波那契数列的定义如下：\n",
    "\n",
    "F(0) = 0,   F(1) = 1\n",
    "F(N) = F(N - 1) + F(N - 2), 其中 N > 1.\n",
    "\n",
    "斐波那契数列由 0 和 1 开始，之后的斐波那契数就是由之前的两数相加而得出。\n",
    "\n",
    "答案需要取模 1e9+7（1000000007），如计算初始结果为：1000000008，请返回 1。\n",
    "\n",
    "\n",
    "示例 1：\n",
    "输入：n = 2\n",
    "输出：1\n",
    "\n",
    "示例 2：\n",
    "输入：n = 5\n",
    "输出：5\n",
    "\n",
    "提示：\t0 <= n <= 100\n",
    "\n",
    "来源：力扣（LeetCode）\n",
    "链接：https://leetcode-cn.com/problems/fei-bo-na-qi-shu-lie-lcof\n",
    "著作权归领扣网络所有。商业转载请联系官方授权，非商业转载请注明出处。"
   ]
  },
  {
   "cell_type": "markdown",
   "metadata": {},
   "source": [
    "如果这道题直接用递归来算，那将非常耗时，而且可能调用栈溢出。比如，要算f(10)，先要算f(9)和f(8)；要算f(9)，先要算f(8)和f(7)；要算f(8)，先要算f(7)和f(6)。在这过程中进行了大量的重复计算，因此效率非常低。\n",
    "\n",
    "所以可以将已经完成的计算结果保留下来，需要的时候先查询一下，同时用循环代替递归。"
   ]
  },
  {
   "cell_type": "code",
   "execution_count": null,
   "metadata": {},
   "outputs": [],
   "source": [
    "class Solution:\n",
    "    def fib(self, n: int) -> int:\n",
    "        result = [0,1]\n",
    "        if n < 2:\n",
    "            return result[n]\n",
    "        \n",
    "        fibN = 0       # f(n)\n",
    "        fibN_pre1 = 1  # f(n-1)\n",
    "        fibN_pre2 = 0  # f(n-2)\n",
    "        \n",
    "        for i in range(2,n+1):\n",
    "            fibN = fibN_pre1 + fibN_pre2  # f(n) = f(n-1) + f(n-2)\n",
    "            if fibN > 1e9+7:\n",
    "                fibN = int(fibN - (1e9+7))\n",
    "            fibN_pre2 = fibN_pre1\n",
    "            fibN_pre1 = fibN\n",
    "        \n",
    "        return fibN"
   ]
  }
 ],
 "metadata": {
  "kernelspec": {
   "display_name": "Python 3",
   "language": "python",
   "name": "python3"
  },
  "language_info": {
   "codemirror_mode": {
    "name": "ipython",
    "version": 3
   },
   "file_extension": ".py",
   "mimetype": "text/x-python",
   "name": "python",
   "nbconvert_exporter": "python",
   "pygments_lexer": "ipython3",
   "version": "3.6.5"
  }
 },
 "nbformat": 4,
 "nbformat_minor": 2
}
