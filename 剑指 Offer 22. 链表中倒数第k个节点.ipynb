{
 "cells": [
  {
   "cell_type": "markdown",
   "metadata": {},
   "source": [
    "# 剑指 Offer 22. 链表中倒数第k个节点\n",
    "\n",
    "输入一个链表，输出该链表中倒数第k个节点。为了符合大多数人的习惯，本题从1开始计数，即链表的尾节点是倒数第1个节点。例如，一个链表有6个节点，从头节点开始，它们的值依次是1、2、3、4、5、6。这个链表的倒数第3个节点是值为4的节点。\n",
    "\n",
    "示例：\n",
    "给定一个链表: 1->2->3->4->5, 和 k = 2.\n",
    "返回链表 4->5.\n",
    "\n",
    "来源：力扣（LeetCode）\n",
    "链接：https://leetcode-cn.com/problems/lian-biao-zhong-dao-shu-di-kge-jie-dian-lcof\n",
    "著作权归领扣网络所有。商业转载请联系官方授权，非商业转载请注明出处。"
   ]
  },
  {
   "cell_type": "markdown",
   "metadata": {},
   "source": [
    "这道题要注意程序的鲁棒性，要处理一下3中可能出现的错误：\n",
    "* 1.输入的是空链表，此时直接返回None即可。\n",
    "* 2.输入的k=0，由于我们从1开始计数，因此倒数第0个数无意义，返回None即可。\n",
    "* 3.输入的链表长度小于k，此时在后移ahead指针的时候要加入判断条件，保证ahead指针可以后移k-1次。"
   ]
  },
  {
   "cell_type": "code",
   "execution_count": null,
   "metadata": {},
   "outputs": [],
   "source": [
    "# Definition for singly-linked list.\n",
    "# class ListNode:\n",
    "#     def __init__(self, x):\n",
    "#         self.val = x\n",
    "#         self.next = None\n",
    "\n",
    "class Solution:\n",
    "    def getKthFromEnd(self, head: ListNode, k: int) -> ListNode:\n",
    "        if head == None or k == 0:\n",
    "            return None\n",
    "        \n",
    "        # 设置两个指针，ahead先走k-1步，behind再走\n",
    "        ahead = head\n",
    "        behind = head\n",
    "\n",
    "        # 先让ahead指针向后走k-1步，behind指针不动\n",
    "        for i in range(k-1):\n",
    "            # 要注意保证数组长度不小于k\n",
    "            if ahead.next != None:\n",
    "                ahead = ahead.next\n",
    "            else:\n",
    "                return None\n",
    "        \n",
    "        # 现在ahead和behind指针一起向后移动，直到ahead指针到达数组末端\n",
    "        while ahead.next != None:\n",
    "            ahead = ahead.next\n",
    "            behind = behind.next\n",
    "        \n",
    "        # 此时behind指针指向的就是链表中倒数第k个节点\n",
    "        return behind"
   ]
  }
 ],
 "metadata": {
  "kernelspec": {
   "display_name": "Python 3",
   "language": "python",
   "name": "python3"
  },
  "language_info": {
   "codemirror_mode": {
    "name": "ipython",
    "version": 3
   },
   "file_extension": ".py",
   "mimetype": "text/x-python",
   "name": "python",
   "nbconvert_exporter": "python",
   "pygments_lexer": "ipython3",
   "version": "3.7.1"
  }
 },
 "nbformat": 4,
 "nbformat_minor": 2
}
