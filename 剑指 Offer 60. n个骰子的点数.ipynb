{
 "cells": [
  {
   "cell_type": "markdown",
   "metadata": {},
   "source": [
    "# 剑指 Offer 60. n个骰子的点数\n",
    "\n",
    "把n个骰子扔在地上，所有骰子朝上一面的点数之和为s。输入n，打印出s的所有可能的值出现的概率。\n",
    "\n",
    "你需要用一个浮点数数组返回答案，其中第 i 个元素代表这 n 个骰子所能掷出的点数集合中第 i 小的那个的概率。\n",
    "\n",
    "\n",
    "示例 1:\n",
    "输入: 1\n",
    "输出: [0.16667,0.16667,0.16667,0.16667,0.16667,0.16667]\n",
    "\n",
    "示例 2:\n",
    "输入: 2\n",
    "输出: [0.02778,0.05556,0.08333,0.11111,0.13889,0.16667,0.13889,0.11111,0.08333,0.05556,0.02778]\n",
    " \n",
    "\n",
    "限制：1 <= n <= 11\n",
    "\n",
    "来源：力扣（LeetCode）\n",
    "链接：https://leetcode-cn.com/problems/nge-tou-zi-de-dian-shu-lcof\n",
    "著作权归领扣网络所有。商业转载请联系官方授权，非商业转载请注明出处。"
   ]
  },
  {
   "cell_type": "markdown",
   "metadata": {},
   "source": [
    "* 在一次循环中，第一个数组中的第n个数字表示骰子和为n出现的次数。\n",
    "* 在下一循环中，我们加上一个新的骰子，此时和为n的骰子出现的次数应该等于上一次循环中骰子点数和为n－1、n－2、n－3、n－4、n－5与n－6的次数的总和，所以我们把另一个数组的第n个数字设为前一个数组对应的第n－1、n－2、n－3、n－4、n－5与n－6之和。"
   ]
  },
  {
   "cell_type": "code",
   "execution_count": null,
   "metadata": {},
   "outputs": [],
   "source": [
    "class Solution:\n",
    "    def twoSum(self, n: int) -> List[float]:\n",
    "        if n <= 0:\n",
    "            return []\n",
    "\n",
    "        # 对于n个骰子，所有可能出现的点数是1,2,3...6n\n",
    "        counts = [0] + 6*n*[0]\n",
    "\n",
    "        for i in range(n):\n",
    "            # 第一次循环\n",
    "            if i == 0:\n",
    "                counts = [0] + 6*[1] + (6*n-6)*[0]\n",
    "            \n",
    "            # 之后的循环加上一个新的骰子，\n",
    "            # 和为n的骰子出现的次数应该等于上一次循环中骰子点数和为n-1,n-2,n-3,n-4,n-5与n-6的次数的总和\n",
    "            else:\n",
    "                for j in range(6*n, 0, -1):\n",
    "                    counts[j] = sum(counts[max(j-6, 0): j])\n",
    "        \n",
    "        result = []\n",
    "        for i in range(len(counts)):\n",
    "            if counts[i] == 0:\n",
    "                continue\n",
    "            result.append(counts[i] / 6**n)\n",
    "        \n",
    "        return result"
   ]
  }
 ],
 "metadata": {
  "kernelspec": {
   "display_name": "Python 3",
   "language": "python",
   "name": "python3"
  },
  "language_info": {
   "codemirror_mode": {
    "name": "ipython",
    "version": 3
   },
   "file_extension": ".py",
   "mimetype": "text/x-python",
   "name": "python",
   "nbconvert_exporter": "python",
   "pygments_lexer": "ipython3",
   "version": "3.6.5"
  }
 },
 "nbformat": 4,
 "nbformat_minor": 2
}
