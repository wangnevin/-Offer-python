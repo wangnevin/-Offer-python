{
 "cells": [
  {
   "cell_type": "markdown",
   "metadata": {},
   "source": [
    "# 剑指 Offer 61. 扑克牌中的顺子\n",
    "\n",
    "从扑克牌中随机抽5张牌，判断是不是一个顺子，即这5张牌是不是连续的。2～10为数字本身，A为1，J为11，Q为12，K为13，而大、小王为 0 ，可以看成任意数字。A 不能视为 14。\n",
    "\n",
    "\n",
    "示例 1:\n",
    "输入: [1,2,3,4,5]\n",
    "输出: True\n",
    " \n",
    "\n",
    "示例 2:\n",
    "输入: [0,0,1,2,5]\n",
    "输出: True\n",
    " \n",
    "\n",
    "限制：\n",
    "数组长度为 5 \n",
    "数组的数取值为 [0, 13] .\n",
    "\n",
    "来源：力扣（LeetCode）\n",
    "链接：https://leetcode-cn.com/problems/bu-ke-pai-zhong-de-shun-zi-lcof\n",
    "著作权归领扣网络所有。商业转载请联系官方授权，非商业转载请注明出处。"
   ]
  },
  {
   "cell_type": "markdown",
   "metadata": {},
   "source": [
    "* 1.首先把数组排序，\n",
    "* 2.再统计数组中0的个数，\n",
    "* 3.最后统计排序之后的数组中相邻数字之间的空缺总数。\n",
    "* 4.如果空缺的总数小于或者等于0的个数，那么这个数组就是连续的；反之则不连续。\n",
    "\n",
    "最后，我们还需要注意一点：如果数组中的非0数字重复出现，则该数组不是连续的。"
   ]
  },
  {
   "cell_type": "code",
   "execution_count": null,
   "metadata": {},
   "outputs": [],
   "source": [
    "class Solution:\n",
    "    def isStraight(self, nums: List[int]) -> bool:\n",
    "        if nums == None or len(nums) == 0:\n",
    "            return False\n",
    "        \n",
    "        # 首先将数组排序\n",
    "        nums = sorted(nums)\n",
    "        \n",
    "        # 统计数组中0的个数\n",
    "        numberOf_0 = 0\n",
    "        for i in range(len(nums)):\n",
    "            if nums[i] == 0:\n",
    "                numberOf_0 += 1\n",
    "            elif nums[i] != 0:\n",
    "                break\n",
    "        \n",
    "        # 统计数组中相邻数字之间的空缺总数\n",
    "        numberOfGap = 0\n",
    "        for i in range(len(nums)-1):\n",
    "            if nums[i] == 0:\n",
    "                continue\n",
    "            # 数组中有数重复出现，则该数组不连续\n",
    "            if nums[i+1] - nums[i] == 0:\n",
    "                return False\n",
    "            if nums[i+1] - nums[i] > 1:\n",
    "                numberOfGap += ((nums[i+1] - nums[i]) - 1)\n",
    "        \n",
    "        if numberOfGap <= numberOf_0 or numberOfGap == 0:\n",
    "            return True\n",
    "        \n",
    "        return False"
   ]
  }
 ],
 "metadata": {
  "kernelspec": {
   "display_name": "Python 3",
   "language": "python",
   "name": "python3"
  },
  "language_info": {
   "codemirror_mode": {
    "name": "ipython",
    "version": 3
   },
   "file_extension": ".py",
   "mimetype": "text/x-python",
   "name": "python",
   "nbconvert_exporter": "python",
   "pygments_lexer": "ipython3",
   "version": "3.6.5"
  }
 },
 "nbformat": 4,
 "nbformat_minor": 2
}
