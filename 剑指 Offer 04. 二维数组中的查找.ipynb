{
 "cells": [
  {
   "cell_type": "markdown",
   "metadata": {},
   "source": [
    "# 剑指 Offer 04. 二维数组中的查找\n",
    "\n",
    "在一个 n * m 的二维数组中，每一行都按照从左到右递增的顺序排序，每一列都按照从上到下递增的顺序排序。请完成一个函数，输入这样的一个二维数组和一个整数，判断数组中是否含有该整数。\n",
    "\n",
    "示例:\n",
    "\n",
    "现有矩阵 matrix 如下：\n",
    "\n",
    "[\n",
    "  [1,   4,  7, 11, 15],\n",
    "  [2,   5,  8, 12, 19],\n",
    "  [3,   6,  9, 16, 22],\n",
    "  [10, 13, 14, 17, 24],\n",
    "  [18, 21, 23, 26, 30]\n",
    "]\n",
    "\n",
    "给定 target = 5，返回 true。\n",
    "给定 target = 20，返回 false。"
   ]
  },
  {
   "cell_type": "markdown",
   "metadata": {},
   "source": [
    "每次将二维数组右上角的数字与目标数字(target)进行比较，如果该数字等于要查找的数字，查找过程结束；如果该数字大于要查找的数字，剔除这个数字所在的列；如果该数字小于要查找的数字，剔除这个数字所在的行。\n",
    "\n",
    "比如要查找的数字是6。\n",
    "*    这时右上角的数字是15，大于6，而15在它这一列中又是最小的数字，所以6不可能在15所在的列，删除这一列。\n",
    "*    这时右上角的数字是11，大于6，而11在它这一列中又是最小的数字，所以6不可能在11所在的列，删除这一列。\n",
    "*    这时右上角的数字是7，大于6，而7在它这一列中又是最小的数字，所以6不可能在7所在的列，删除这一列。\n",
    "*    这时右上角的数字是4，小于6，而4是它这一行最大的数字（已经删除了右边3列），所以6不可能在4所在的这一行，删除这一行。\n",
    "*    这时右上角的数字是5，小于6，而5是它这一行最大的数字（已经删除了右边3列），所以6不可能在5所在的这一行，删除这一行。\n",
    "*    这时右上角的数字是6，发现目标。"
   ]
  },
  {
   "cell_type": "code",
   "execution_count": null,
   "metadata": {},
   "outputs": [],
   "source": [
    "class Solution:\n",
    "    def findNumberIn2DArray(self, matrix: List[List[int]], target: int) -> bool:\n",
    "        if matrix == None or len(matrix) == 0 or len(matrix[0]) == 0:\n",
    "            return False\n",
    "        \n",
    "        top = 0\n",
    "        right = len(matrix[0]) - 1\n",
    "\n",
    "        while top < len(matrix) and right >= 0:\n",
    "            if matrix[top][right] == target:\n",
    "                return True\n",
    "            elif matrix[top][right] > target:\n",
    "                right -= 1\n",
    "            else:\n",
    "                top += 1\n",
    "        \n",
    "        return False"
   ]
  }
 ],
 "metadata": {
  "kernelspec": {
   "display_name": "Python 3",
   "language": "python",
   "name": "python3"
  },
  "language_info": {
   "codemirror_mode": {
    "name": "ipython",
    "version": 3
   },
   "file_extension": ".py",
   "mimetype": "text/x-python",
   "name": "python",
   "nbconvert_exporter": "python",
   "pygments_lexer": "ipython3",
   "version": "3.6.5"
  }
 },
 "nbformat": 4,
 "nbformat_minor": 2
}
