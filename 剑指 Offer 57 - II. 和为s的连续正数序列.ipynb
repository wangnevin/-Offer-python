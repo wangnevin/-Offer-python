{
 "cells": [
  {
   "cell_type": "markdown",
   "metadata": {},
   "source": [
    "# 剑指 Offer 57 - II. 和为s的连续正数序列\n",
    "\n",
    "输入一个正整数 target ，输出所有和为 target 的连续正整数序列（至少含有两个数）。\n",
    "\n",
    "序列内的数字由小到大排列，不同序列按照首个数字从小到大排列。\n",
    "\n",
    "\n",
    "示例 1：\n",
    "输入：target = 9\n",
    "输出：[[2,3,4],[4,5]]\n",
    "\n",
    "示例 2：\n",
    "输入：target = 15\n",
    "输出：[[1,2,3,4,5],[4,5,6],[7,8]]\n",
    " \n",
    "\n",
    "限制：1 <= target <= 10^5\n",
    "\n",
    "\n",
    "来源：力扣（LeetCode）\n",
    "链接：https://leetcode-cn.com/problems/he-wei-sde-lian-xu-zheng-shu-xu-lie-lcof\n",
    "著作权归领扣网络所有。商业转载请联系官方授权，非商业转载请注明出处。"
   ]
  },
  {
   "cell_type": "markdown",
   "metadata": {},
   "source": [
    "我们用两个数small和big分别表示序列的最小值和最大值。\n",
    "* 首先把small初始化为1，bug初始化为2。\n",
    "* 如果从small到big的序列的和大于s，我们可以从序列中去掉较小的值，也就是增大small的值。\n",
    "* 如果从small到big的序列的和小于s，我们可以增大big，让这个序列包含更多的数字。\n",
    "* 因为这个序列至少要有两个数字，我们一直增加small到（1＋s）/2为止。\n",
    "\n",
    "【例】以求和为9的所有连续序列为例\n",
    "\n",
    "*  1.我们先把small初始化为1，big初始化为2。\n",
    "*  2.此时介于small和big之间的序列是{1,2}，序列的和是3，小于9，我们把big增加1变成3\n",
    "*  3.此时介于small和big之间的序列是{1,2,3}，序列的和是6，小于9，我们把big增加1变成4\n",
    "*  4.此时介于small和big之间的序列是{1,2,3,4}，序列的和是10，大于9，于是我们增加small变成2，\n",
    "*  5.此时介于small和big之间的序列是{2,3,4}，序列的和正好是9。\n",
    "\n",
    "我们找到了第一个和为9的连续序列，把它打印出来。接下来我们再增加big，重复前面的过程，可以找到第二个和为9的连续序列{4,5}。"
   ]
  },
  {
   "cell_type": "code",
   "execution_count": null,
   "metadata": {},
   "outputs": [],
   "source": [
    "class Solution:\n",
    "    def findContinuousSequence(self, target: int) -> List[List[int]]:\n",
    "        if target <= 0:\n",
    "            return []\n",
    "        \n",
    "        small = 1\n",
    "        big = 2\n",
    "        middle = (target + 1) / 2\n",
    "        curSum = small + big\n",
    "        results = []\n",
    "\n",
    "        while small < middle:\n",
    "            if curSum == target:\n",
    "                result = self.add_result(small, big)\n",
    "                results.append(result)\n",
    "            \n",
    "            # 如果当前的和大于目标，则去掉当前序列的最小值，让和变小，直到当前的和不大于目标\n",
    "            while curSum > target and small < middle:\n",
    "                curSum = curSum - small\n",
    "                small += 1\n",
    "\n",
    "                if curSum == target:\n",
    "                    result = self.add_result(small, big)\n",
    "                    results.append(result)\n",
    "                \n",
    "            big += 1\n",
    "            curSum = curSum + big\n",
    "        \n",
    "        return results\n",
    "\n",
    "    def add_result(self, small, big):\n",
    "        result = []\n",
    "        for i in range(small, big+1):\n",
    "            result.append(i)\n",
    "        \n",
    "        return result"
   ]
  }
 ],
 "metadata": {
  "kernelspec": {
   "display_name": "Python 3",
   "language": "python",
   "name": "python3"
  },
  "language_info": {
   "codemirror_mode": {
    "name": "ipython",
    "version": 3
   },
   "file_extension": ".py",
   "mimetype": "text/x-python",
   "name": "python",
   "nbconvert_exporter": "python",
   "pygments_lexer": "ipython3",
   "version": "3.6.5"
  }
 },
 "nbformat": 4,
 "nbformat_minor": 2
}
